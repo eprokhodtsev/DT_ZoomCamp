{
 "cells": [
  {
   "cell_type": "code",
   "execution_count": 24,
   "id": "1442f92e-88bb-43f5-8832-8999be9f5e3f",
   "metadata": {},
   "outputs": [],
   "source": [
    "import pandas as pd\n",
    "import numpy as np\n",
    "import matplotlib.pyplot as plt"
   ]
  },
  {
   "cell_type": "code",
   "execution_count": 2,
   "id": "2372c137-01c7-4566-82ee-39ed34c5e49b",
   "metadata": {},
   "outputs": [
    {
     "data": {
      "text/html": [
       "<div>\n",
       "<style scoped>\n",
       "    .dataframe tbody tr th:only-of-type {\n",
       "        vertical-align: middle;\n",
       "    }\n",
       "\n",
       "    .dataframe tbody tr th {\n",
       "        vertical-align: top;\n",
       "    }\n",
       "\n",
       "    .dataframe thead th {\n",
       "        text-align: right;\n",
       "    }\n",
       "</style>\n",
       "<table border=\"1\" class=\"dataframe\">\n",
       "  <thead>\n",
       "    <tr style=\"text-align: right;\">\n",
       "      <th></th>\n",
       "      <th>ram</th>\n",
       "      <th>storage</th>\n",
       "      <th>screen</th>\n",
       "      <th>final_price</th>\n",
       "    </tr>\n",
       "  </thead>\n",
       "  <tbody>\n",
       "    <tr>\n",
       "      <th>0</th>\n",
       "      <td>8</td>\n",
       "      <td>512</td>\n",
       "      <td>15.6</td>\n",
       "      <td>1009.00</td>\n",
       "    </tr>\n",
       "    <tr>\n",
       "      <th>1</th>\n",
       "      <td>8</td>\n",
       "      <td>256</td>\n",
       "      <td>15.6</td>\n",
       "      <td>299.00</td>\n",
       "    </tr>\n",
       "    <tr>\n",
       "      <th>2</th>\n",
       "      <td>8</td>\n",
       "      <td>256</td>\n",
       "      <td>15.6</td>\n",
       "      <td>789.00</td>\n",
       "    </tr>\n",
       "    <tr>\n",
       "      <th>3</th>\n",
       "      <td>16</td>\n",
       "      <td>1000</td>\n",
       "      <td>15.6</td>\n",
       "      <td>1199.00</td>\n",
       "    </tr>\n",
       "    <tr>\n",
       "      <th>4</th>\n",
       "      <td>16</td>\n",
       "      <td>512</td>\n",
       "      <td>15.6</td>\n",
       "      <td>669.01</td>\n",
       "    </tr>\n",
       "  </tbody>\n",
       "</table>\n",
       "</div>"
      ],
      "text/plain": [
       "   ram  storage  screen  final_price\n",
       "0    8      512    15.6      1009.00\n",
       "1    8      256    15.6       299.00\n",
       "2    8      256    15.6       789.00\n",
       "3   16     1000    15.6      1199.00\n",
       "4   16      512    15.6       669.01"
      ]
     },
     "execution_count": 2,
     "metadata": {},
     "output_type": "execute_result"
    }
   ],
   "source": [
    "df = pd.read_csv('laptops 2.csv')\n",
    "df.columns = df.columns.str.lower().str.replace(' ', '_')\n",
    "column_list = ['ram','storage','screen','final_price']\n",
    "df = df[column_list]\n",
    "\n",
    "df.head() "
   ]
  },
  {
   "cell_type": "code",
   "execution_count": 3,
   "id": "1a320a9c-8f9a-4a6f-909d-7312336ff6fc",
   "metadata": {},
   "outputs": [
    {
     "data": {
      "text/plain": [
       "<Axes: >"
      ]
     },
     "execution_count": 3,
     "metadata": {},
     "output_type": "execute_result"
    },
    {
     "data": {
      "image/png": "[encoded data removed]",
      "text/plain": [
       "<Figure size 640x480 with 1 Axes>"
      ]
     },
     "metadata": {},
     "output_type": "display_data"
    }
   ],
   "source": [
    "df.final_price.hist(bins=50)\n"
   ]
  },
  {
   "cell_type": "markdown",
   "id": "fa1e6390-f1db-49fe-8e65-bbc5e10a5423",
   "metadata": {},
   "source": [
    "Price distribution even visually has a heavy right tail"
   ]
  },
  {
   "cell_type": "markdown",
   "id": "97af91b9-7db5-4d12-a7d5-425c61c56574",
   "metadata": {},
   "source": [
    "# Q1 Looking for missing values"
   ]
  },
  {
   "cell_type": "code",
   "execution_count": 4,
   "id": "61bb9797-610e-4a1c-b62e-65ec7b0ed68c",
   "metadata": {
    "scrolled": true
   },
   "outputs": [
    {
     "name": "stdout",
     "output_type": "stream",
     "text": [
      "Index(['screen'], dtype='object')\n"
     ]
    }
   ],
   "source": [
    "nan_columns = df.columns[df.isnull().any()]\n",
    "print(nan_columns)"
   ]
  },
  {
   "cell_type": "markdown",
   "id": "af8ba504-294c-4b9e-8735-089a3abef875",
   "metadata": {},
   "source": [
    "# Q2 median calculation"
   ]
  },
  {
   "cell_type": "code",
   "execution_count": 5,
   "id": "fd079843-ec39-4fa9-a47c-f0bf81eb6db3",
   "metadata": {},
   "outputs": [
    {
     "data": {
      "text/plain": [
       "16.0"
      ]
     },
     "execution_count": 5,
     "metadata": {},
     "output_type": "execute_result"
    }
   ],
   "source": [
    "df.ram.median()"
   ]
  },
  {
   "cell_type": "markdown",
   "id": "27cbfccd-dc19-4f09-93de-1dec49e576c4",
   "metadata": {},
   "source": [
    "# Setting up split and shuffle routine"
   ]
  },
  {
   "cell_type": "code",
   "execution_count": 6,
   "id": "b692ac55-f23e-4760-b882-9f33ab5d4f78",
   "metadata": {},
   "outputs": [],
   "source": [
    "def df_shuffle_and_split(df,random_seed=42):\n",
    "    n = len(df)\n",
    "    \n",
    "    n_val = int(n * 0.2)\n",
    "    n_test = int(n * 0.2)\n",
    "    n_train = n - n_val - n_test\n",
    "    \n",
    "    idx = np.arange(n)\n",
    "    np.random.seed(random_seed)\n",
    "    np.random.shuffle(idx)\n",
    "    \n",
    "    \n",
    "    df_train = df.iloc[idx[:n_train]]\n",
    "    df_val = df.iloc[idx[n_train:n_train+n_val]]\n",
    "    df_test = df.iloc[idx[n_train+n_val:]]\n",
    "\n",
    "    df_train = df_train.reset_index(drop=True)\n",
    "    df_val = df_val.reset_index(drop=True)\n",
    "    df_test = df_test.reset_index(drop=True)\n",
    "\n",
    "    y_train = np.log1p(df_train.final_price.values)\n",
    "    y_val = np.log1p(df_val.final_price.values)\n",
    "    y_test = np.log1p(df_test.final_price.values)\n",
    "\n",
    "    del df_train['final_price']\n",
    "    del df_val['final_price']\n",
    "    del df_test['final_price']\n",
    "\n",
    "    return df_train, df_val, df_test, y_train, y_val, y_test"
   ]
  },
  {
   "cell_type": "code",
   "execution_count": 7,
   "id": "c7f75fb4-0607-4185-a183-b7ef38ed14e4",
   "metadata": {},
   "outputs": [],
   "source": [
    "df_train, df_val, df_test, y_train, y_val, y_test = df_shuffle_and_split(df)"
   ]
  },
  {
   "cell_type": "markdown",
   "id": "9f8a44ed-191e-439a-be57-b66d622a4d05",
   "metadata": {},
   "source": [
    "# defining linear regression and error fucntion "
   ]
  },
  {
   "cell_type": "code",
   "execution_count": 8,
   "id": "6c4c1df2-7b71-4b43-a279-60949a7e0177",
   "metadata": {},
   "outputs": [],
   "source": [
    "def train_linear_regression(X, y):\n",
    "    ones = np.ones(X.shape[0])\n",
    "    X = np.column_stack([ones, X])\n",
    "\n",
    "    XTX = X.T.dot(X)\n",
    "    XTX_inv = np.linalg.inv(XTX)\n",
    "    w_full = XTX_inv.dot(X.T).dot(y)\n",
    "    \n",
    "    return w_full[0], w_full[1:]"
   ]
  },
  {
   "cell_type": "code",
   "execution_count": 9,
   "id": "0c118150-d060-40d3-9408-0671aa6165b1",
   "metadata": {},
   "outputs": [],
   "source": [
    "def rmse(y, y_pred):\n",
    "    se = (y - y_pred) ** 2\n",
    "    mse = se.mean()\n",
    "    return np.sqrt(mse)"
   ]
  },
  {
   "cell_type": "markdown",
   "id": "223df395-e0ea-4bda-a69b-ebec29f4abbb",
   "metadata": {},
   "source": [
    "# Q3 training pure linear regresssion"
   ]
  },
  {
   "cell_type": "code",
   "execution_count": 15,
   "id": "71fd9445-ea07-40ea-a793-4a16a3692c8c",
   "metadata": {},
   "outputs": [
    {
     "data": {
      "text/plain": [
       "0.43"
      ]
     },
     "execution_count": 15,
     "metadata": {},
     "output_type": "execute_result"
    }
   ],
   "source": [
    "df_train, df_val, df_test, y_train, y_val, y_test = df_shuffle_and_split(df)\n",
    "\n",
    "df_train[nan_columns[0]]=df_train[nan_columns[0]].fillna(df_train[nan_columns[0]].mean())\n",
    "\n",
    "w0, w =  train_linear_regression(df_train, y_train)\n",
    "\n",
    "\n",
    "df_val[nan_columns[0]]=df_val[nan_columns[0]].fillna(df_val[nan_columns[0]].mean())\n",
    "y_pred = w0 + df_val.dot(w)\n",
    "rmse_mean = rmse(y_val, y_pred)\n",
    "\n",
    "\n",
    "round(rmse_mean, 2)"
   ]
  },
  {
   "cell_type": "code",
   "execution_count": 16,
   "id": "9f95e74e-58b4-411e-b026-201aeab99df0",
   "metadata": {},
   "outputs": [
    {
     "data": {
      "text/plain": [
       "0.43"
      ]
     },
     "execution_count": 16,
     "metadata": {},
     "output_type": "execute_result"
    }
   ],
   "source": [
    "df_train, df_val, df_test, y_train, y_val, y_test = df_shuffle_and_split(df)\n",
    "\n",
    "df_train[nan_columns[0]]=df_train[nan_columns[0]].fillna(0)\n",
    "\n",
    "w0, w =  train_linear_regression(df_train, y_train)\n",
    "\n",
    "\n",
    "df_val[nan_columns[0]]=df_val[nan_columns[0]].fillna(0)\n",
    "y_pred = w0 + df_val.dot(w)\n",
    "rmse_zero = rmse(y_val, y_pred)\n",
    "round(rmse_zero, 2)"
   ]
  },
  {
   "cell_type": "code",
   "execution_count": 17,
   "id": "68469b0c-4efe-4170-80b9-3f468723cb06",
   "metadata": {},
   "outputs": [
    {
     "data": {
      "text/plain": [
       "True"
      ]
     },
     "execution_count": 17,
     "metadata": {},
     "output_type": "execute_result"
    }
   ],
   "source": [
    "round(rmse_mean, 2)==round(rmse_zero, 2)"
   ]
  },
  {
   "cell_type": "markdown",
   "id": "0ec4105d-3649-45d5-a91a-1d3160a30e0a",
   "metadata": {},
   "source": [
    "# Q4 adding regularizartion"
   ]
  },
  {
   "cell_type": "code",
   "execution_count": 20,
   "id": "fd678402-1d2d-40a5-8215-f4924a0487f1",
   "metadata": {},
   "outputs": [],
   "source": [
    "def train_linear_regression_reg(X, y, r=0.001):\n",
    "    ones = np.ones(X.shape[0])\n",
    "    X = np.column_stack([ones, X])\n",
    "\n",
    "    XTX = X.T.dot(X)\n",
    "    XTX = XTX + r * np.eye(XTX.shape[0])\n",
    "\n",
    "    XTX_inv = np.linalg.inv(XTX)\n",
    "    w_full = XTX_inv.dot(X.T).dot(y)\n",
    "    \n",
    "    return w_full[0], w_full[1:]"
   ]
  },
  {
   "cell_type": "code",
   "execution_count": null,
   "id": "d82bff45-1e62-4518-ad9f-166bdbb61067",
   "metadata": {},
   "outputs": [],
   "source": []
  },
  {
   "cell_type": "code",
   "execution_count": 32,
   "id": "08cb439e-7f17-4bbe-878d-08ae78a7a8a4",
   "metadata": {},
   "outputs": [],
   "source": [
    "df_train, df_val, df_test, y_train, y_val, y_test = df_shuffle_and_split(df)\n",
    "\n",
    "df_train[nan_columns[0]]=df_train[nan_columns[0]].fillna(0)\n",
    "df_val[nan_columns[0]]=df_val[nan_columns[0]].fillna(0)\n",
    "\n",
    "list_of_r = [0, 0.01, 1, 5, 10, 100]\n",
    "result = []\n",
    "\n",
    "for r in list_of_r:\n",
    "    \n",
    "    w0, w =  train_linear_regression_reg(df_train, y_train,r)\n",
    "    y_pred = w0 + df_val.dot(w)\n",
    "\n",
    "    result.append((r,rmse(y_val, y_pred)))\n",
    "    "
   ]
  },
  {
   "cell_type": "code",
   "execution_count": 33,
   "id": "6a074f05-7445-4f95-8b97-1519baeab397",
   "metadata": {},
   "outputs": [
    {
     "name": "stdout",
     "output_type": "stream",
     "text": [
      "The best r value is: 0.01 with the lowest RMSE of: 0.42885163605341114\n"
     ]
    }
   ],
   "source": [
    "best_r, best_rmse = min(result, key=lambda x: x[1])\n",
    "\n",
    "# Output the result\n",
    "print(f\"The best r value is: {best_r} with the lowest RMSE of: {best_rmse}\")"
   ]
  },
  {
   "cell_type": "code",
   "execution_count": 40,
   "id": "ff6aae91-ba65-4104-8b1b-b41d6293ebaa",
   "metadata": {},
   "outputs": [
    {
     "data": {
      "image/png": "[encoded data removed]",
      "text/plain": [
       "<Figure size 800x600 with 1 Axes>"
      ]
     },
     "metadata": {},
     "output_type": "display_data"
    }
   ],
   "source": [
    "x_values, y_values = zip(*result)\n",
    "\n",
    "# Create a plot\n",
    "plt.figure(figsize=(8, 6))\n",
    "plt.plot(x_values, y_values, marker='o', linestyle='-', color='b')\n",
    "\n",
    "plt.xscale('log')\n",
    "# Add labels and title\n",
    "plt.xlabel('r')\n",
    "plt.ylabel('RMSE')\n",
    "\n",
    "\n",
    "# Show the plot\n",
    "plt.grid(True)\n",
    "plt.show()"
   ]
  },
  {
   "cell_type": "markdown",
   "id": "b2250bfe-446b-4191-b9e8-0f5e86facabc",
   "metadata": {},
   "source": [
    "# Q5 testing different seeds"
   ]
  },
  {
   "cell_type": "code",
   "execution_count": 46,
   "id": "857a9f4a-d20f-46f0-8288-4e410635403a",
   "metadata": {},
   "outputs": [],
   "source": [
    "seeds_list = [0, 1, 2, 3, 4, 5, 6, 7, 8, 9]\n",
    "results = []\n",
    "\n",
    "for seed in seeds_list:\n",
    "    df_train, df_val, df_test, y_train, y_val, y_test = df_shuffle_and_split(df,seed)\n",
    "    \n",
    "    df_train[nan_columns[0]]=df_train[nan_columns[0]].fillna(0)\n",
    "    df_val[nan_columns[0]]=df_val[nan_columns[0]].fillna(0)\n",
    "    w0, w =  train_linear_regression(df_train, y_train)\n",
    "\n",
    "\n",
    "    df_val[nan_columns[0]]=df_val[nan_columns[0]].fillna(0)\n",
    "    y_pred = w0 + df_val.dot(w)\n",
    "    results.append(rmse(y_val, y_pred))"
   ]
  },
  {
   "cell_type": "code",
   "execution_count": 47,
   "id": "3a8a043e-a830-4e62-b2cb-cf40b5e5c1a3",
   "metadata": {},
   "outputs": [
    {
     "data": {
      "text/plain": [
       "0.014"
      ]
     },
     "execution_count": 47,
     "metadata": {},
     "output_type": "execute_result"
    }
   ],
   "source": [
    "round(np.std(results),3)"
   ]
  },
  {
   "cell_type": "markdown",
   "id": "b57faec0-2df0-44eb-b62a-72c15ab96963",
   "metadata": {},
   "source": [
    "# Q6 RMSE"
   ]
  },
  {
   "cell_type": "code",
   "execution_count": 49,
   "id": "f96fdfb4-7df4-4cbe-ba29-7004e4cad77a",
   "metadata": {},
   "outputs": [],
   "source": [
    "df_train, df_val, df_test, y_train, y_val, y_test = df_shuffle_and_split(df,9)"
   ]
  },
  {
   "cell_type": "code",
   "execution_count": 58,
   "id": "c28c01b0-e140-411d-abeb-5e34453f7cf0",
   "metadata": {},
   "outputs": [
    {
     "data": {
      "text/plain": [
       "0.4552834801500477"
      ]
     },
     "execution_count": 58,
     "metadata": {},
     "output_type": "execute_result"
    }
   ],
   "source": [
    "X_updated = pd.concat([df_train,df_val])\n",
    "y_updated =  np.concatenate((y_train,y_val))\n",
    "\n",
    "X_updated[nan_columns[0]]=X_updated[nan_columns[0]].fillna(0)\n",
    "w0, w =  train_linear_regression_reg(X_updated, y_updated,0.01)\n",
    "\n",
    "df_test[nan_columns[0]]=df_test[nan_columns[0]].fillna(0)\n",
    "y_pred = w0 + df_test.dot(w)\n",
    "\n",
    "rmse(y_test, y_pred)"
   ]
  },
  {
   "cell_type": "code",
   "execution_count": 59,
   "id": "c6862899-f9b9-47b8-b81b-e716de7c03aa",
   "metadata": {},
   "outputs": [
    {
     "data": {
      "text/plain": [
       "890.5786755589288"
      ]
     },
     "execution_count": 59,
     "metadata": {},
     "output_type": "execute_result"
    }
   ],
   "source": [
    "rmse(np.exp(y_test), np.exp(y_pred))"
   ]
  },
  {
   "cell_type": "code",
   "execution_count": null,
   "id": "027e0cfe-c2ad-4a30-ad00-22cc812161b8",
   "metadata": {},
   "outputs": [],
   "source": []
  },
  {
   "cell_type": "code",
   "execution_count": null,
   "id": "055cae6e-158c-4f45-8aec-297174b8cf11",
   "metadata": {},
   "outputs": [],
   "source": []
  }
 ],
 "metadata": {
  "kernelspec": {
   "display_name": "Python 3 (ipykernel)",
   "language": "python",
   "name": "python3"
  },
  "language_info": {
   "codemirror_mode": {
    "name": "ipython",
    "version": 3
   },
   "file_extension": ".py",
   "mimetype": "text/x-python",
   "name": "python",
   "nbconvert_exporter": "python",
   "pygments_lexer": "ipython3",
   "version": "3.10.13"
  }
 },
 "nbformat": 4,
 "nbformat_minor": 5
}

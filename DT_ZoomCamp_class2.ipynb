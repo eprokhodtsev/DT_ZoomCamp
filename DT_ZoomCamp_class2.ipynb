{
 "cells": [
  {
   "cell_type": "code",
   "execution_count": 24,
   "id": "1442f92e-88bb-43f5-8832-8999be9f5e3f",
   "metadata": {},
   "outputs": [],
   "source": [
    "import pandas as pd\n",
    "import numpy as np\n",
    "import matplotlib.pyplot as plt"
   ]
  },
  {
   "cell_type": "code",
   "execution_count": 81,
   "id": "9e101a27-a597-446b-b286-f1eb5d1ee740",
   "metadata": {},
   "outputs": [],
   "source": [
    "data  = 'https://raw.githubusercontent.com/alexeygrigorev/datasets/master/laptops.csv'"
   ]
  },
  {
   "cell_type": "code",
   "execution_count": 82,
   "id": "a7823de2-50b6-4422-b775-f0a91b9b4c69",
   "metadata": {},
   "outputs": [
    {
     "name": "stdout",
     "output_type": "stream",
     "text": [
      "--2024-10-07 17:27:32--  https://raw.githubusercontent.com/alexeygrigorev/datasets/master/laptops.csv\n",
      "Resolving raw.githubusercontent.com (raw.githubusercontent.com)... 2606:50c0:8003::154, 2606:50c0:8000::154, 2606:50c0:8001::154, ...\n",
      "Connecting to raw.githubusercontent.com (raw.githubusercontent.com)|2606:50c0:8003::154|:443... connected.\n",
      "HTTP request sent, awaiting response... 200 OK\n",
      "Length: 298573 (292K) [text/plain]\n",
      "Saving to: ‘laptops.csv.1’\n",
      "\n",
      "laptops.csv.1       100%[===================>] 291.58K  --.-KB/s    in 0.07s   \n",
      "\n",
      "2024-10-07 17:27:33 (4.30 MB/s) - ‘laptops.csv.1’ saved [298573/298573]\n",
      "\n"
     ]
    }
   ],
   "source": [
    "#!wget $data "
   ]
  },
  {
   "cell_type": "code",
   "execution_count": 83,
   "id": "2372c137-01c7-4566-82ee-39ed34c5e49b",
   "metadata": {},
   "outputs": [
    {
     "data": {
      "text/html": [
       "<div>\n",
       "<style scoped>\n",
       "    .dataframe tbody tr th:only-of-type {\n",
       "        vertical-align: middle;\n",
       "    }\n",
       "\n",
       "    .dataframe tbody tr th {\n",
       "        vertical-align: top;\n",
       "    }\n",
       "\n",
       "    .dataframe thead th {\n",
       "        text-align: right;\n",
       "    }\n",
       "</style>\n",
       "<table border=\"1\" class=\"dataframe\">\n",
       "  <thead>\n",
       "    <tr style=\"text-align: right;\">\n",
       "      <th></th>\n",
       "      <th>ram</th>\n",
       "      <th>storage</th>\n",
       "      <th>screen</th>\n",
       "      <th>final_price</th>\n",
       "    </tr>\n",
       "  </thead>\n",
       "  <tbody>\n",
       "    <tr>\n",
       "      <th>0</th>\n",
       "      <td>8</td>\n",
       "      <td>512</td>\n",
       "      <td>15.6</td>\n",
       "      <td>1009.00</td>\n",
       "    </tr>\n",
       "    <tr>\n",
       "      <th>1</th>\n",
       "      <td>8</td>\n",
       "      <td>256</td>\n",
       "      <td>15.6</td>\n",
       "      <td>299.00</td>\n",
       "    </tr>\n",
       "    <tr>\n",
       "      <th>2</th>\n",
       "      <td>8</td>\n",
       "      <td>256</td>\n",
       "      <td>15.6</td>\n",
       "      <td>789.00</td>\n",
       "    </tr>\n",
       "    <tr>\n",
       "      <th>3</th>\n",
       "      <td>16</td>\n",
       "      <td>1000</td>\n",
       "      <td>15.6</td>\n",
       "      <td>1199.00</td>\n",
       "    </tr>\n",
       "    <tr>\n",
       "      <th>4</th>\n",
       "      <td>16</td>\n",
       "      <td>512</td>\n",
       "      <td>15.6</td>\n",
       "      <td>669.01</td>\n",
       "    </tr>\n",
       "  </tbody>\n",
       "</table>\n",
       "</div>"
      ],
      "text/plain": [
       "   ram  storage  screen  final_price\n",
       "0    8      512    15.6      1009.00\n",
       "1    8      256    15.6       299.00\n",
       "2    8      256    15.6       789.00\n",
       "3   16     1000    15.6      1199.00\n",
       "4   16      512    15.6       669.01"
      ]
     },
     "execution_count": 83,
     "metadata": {},
     "output_type": "execute_result"
    }
   ],
   "source": [
    "\n",
    "df = pd.read_csv('laptops.csv.1')\n",
    "df.columns = df.columns.str.lower().str.replace(' ', '_')\n",
    "column_list = ['ram','storage','screen','final_price']\n",
    "df = df[column_list]\n",
    "\n",
    "df.head() "
   ]
  },
  {
   "cell_type": "code",
   "execution_count": 84,
   "id": "1a320a9c-8f9a-4a6f-909d-7312336ff6fc",
   "metadata": {},
   "outputs": [
    {
     "data": {
      "text/plain": [
       "<Axes: >"
      ]
     },
     "execution_count": 84,
     "metadata": {},
     "output_type": "execute_result"
    },
    {
     "data": {
      "image/png": "[encoded data removed]",
      "text/plain": [
       "<Figure size 640x480 with 1 Axes>"
      ]
     },
     "metadata": {},
     "output_type": "display_data"
    }
   ],
   "source": [
    "df.final_price.hist(bins=50)"
   ]
  },
  {
   "cell_type": "markdown",
   "id": "fa1e6390-f1db-49fe-8e65-bbc5e10a5423",
   "metadata": {},
   "source": [
    "Price distribution even visually has a heavy right tail"
   ]
  },
  {
   "cell_type": "markdown",
   "id": "97af91b9-7db5-4d12-a7d5-425c61c56574",
   "metadata": {},
   "source": [
    "# Q1 Looking for missing values"
   ]
  },
  {
   "cell_type": "code",
   "execution_count": 98,
   "id": "61bb9797-610e-4a1c-b62e-65ec7b0ed68c",
   "metadata": {
    "scrolled": true
   },
   "outputs": [
    {
     "name": "stdout",
     "output_type": "stream",
     "text": [
      "screen    4\n",
      "dtype: int64\n"
     ]
    }
   ],
   "source": [
    "# Check for missing values in each column\n",
    "missing_values = df.isnull().sum()\n",
    "missing_columns = missing_values[missing_values > 0]\n",
    "print(missing_columns)\n",
    "missing_column = missing_columns.index[0]"
   ]
  },
  {
   "cell_type": "markdown",
   "id": "af8ba504-294c-4b9e-8735-089a3abef875",
   "metadata": {},
   "source": [
    "# Q2 median calculation"
   ]
  },
  {
   "cell_type": "code",
   "execution_count": 99,
   "id": "fd079843-ec39-4fa9-a47c-f0bf81eb6db3",
   "metadata": {},
   "outputs": [
    {
     "name": "stdout",
     "output_type": "stream",
     "text": [
      "The median value for 'ram' is: 16.0\n"
     ]
    }
   ],
   "source": [
    "# Calculate the median value for the 'ram' column\n",
    "ram_median = df['ram'].median()\n",
    "\n",
    "print(f\"The median value for 'ram' is: {ram_median}\")\n"
   ]
  },
  {
   "cell_type": "markdown",
   "id": "27cbfccd-dc19-4f09-93de-1dec49e576c4",
   "metadata": {},
   "source": [
    "# Setting up split and shuffle routine"
   ]
  },
  {
   "cell_type": "code",
   "execution_count": 100,
   "id": "b692ac55-f23e-4760-b882-9f33ab5d4f78",
   "metadata": {},
   "outputs": [],
   "source": [
    "def df_shuffle_and_split(df, random_seed=42):\n",
    "    n = len(df)\n",
    "    \n",
    "    n_val = int(n * 0.2)\n",
    "    n_test = int(n * 0.2)\n",
    "    n_train = n - n_val - n_test\n",
    "    \n",
    "    idx = np.arange(n)\n",
    "    np.random.seed(random_seed)\n",
    "    np.random.shuffle(idx)\n",
    "    \n",
    "    df_train = df.iloc[idx[:n_train]]\n",
    "    df_val = df.iloc[idx[n_train:n_train+n_val]]\n",
    "    df_test = df.iloc[idx[n_train+n_val:]]\n",
    "    \n",
    "    df_train = df_train.reset_index(drop=True)\n",
    "    df_val = df_val.reset_index(drop=True)\n",
    "    df_test = df_test.reset_index(drop=True)\n",
    "\n",
    "    y_train = df_train['final_price'].values\n",
    "    y_val = df_val['final_price'].values\n",
    "    y_test = df_test['final_price'].values\n",
    "\n",
    "    del df_train['final_price']\n",
    "    del df_val['final_price']\n",
    "    del df_test['final_price']\n",
    "\n",
    "    return df_train, df_val, df_test, y_train, y_val, y_test\n"
   ]
  },
  {
   "cell_type": "markdown",
   "id": "9f8a44ed-191e-439a-be57-b66d622a4d05",
   "metadata": {},
   "source": [
    "# defining linear regression and error fucntion "
   ]
  },
  {
   "cell_type": "code",
   "execution_count": 101,
   "id": "6c4c1df2-7b71-4b43-a279-60949a7e0177",
   "metadata": {},
   "outputs": [],
   "source": [
    "def train_linear_regression(X, y):\n",
    "    # Add a column of ones to X to account for the bias term (intercept w0)\n",
    "    X = np.hstack([np.ones((X.shape[0], 1)), X])\n",
    "    \n",
    "    w = np.linalg.inv(X.T.dot(X)).dot(X.T).dot(y)\n",
    "    \n",
    "    return w[0], w[1:]  "
   ]
  },
  {
   "cell_type": "code",
   "execution_count": 102,
   "id": "0c118150-d060-40d3-9408-0671aa6165b1",
   "metadata": {},
   "outputs": [],
   "source": [
    "def rmse(y, y_pred):\n",
    "    se = (y - y_pred) ** 2\n",
    "    mse = se.mean()\n",
    "    return np.sqrt(mse)\n"
   ]
  },
  {
   "cell_type": "markdown",
   "id": "223df395-e0ea-4bda-a69b-ebec29f4abbb",
   "metadata": {},
   "source": [
    "# Q3 training pure linear regresssion"
   ]
  },
  {
   "cell_type": "code",
   "execution_count": 106,
   "id": "fce811e9-181b-4b3d-a3ce-283c2c34d32f",
   "metadata": {},
   "outputs": [
    {
     "name": "stdout",
     "output_type": "stream",
     "text": [
      "RMSE when filling missing values with 0: 597.36\n",
      "RMSE when filling missing values with mean: 597.36\n",
      "Both approaches give the same RMSE.\n"
     ]
    }
   ],
   "source": [
    "\n",
    "# Fill missing values with 0 and train model\n",
    "def fill_missing_with_0(df_train, df_val, nan_column, y_train, y_val):\n",
    "    # Fill missing values in the train and validation sets\n",
    "    df_train[nan_column] = df_train[nan_column].fillna(0)\n",
    "    df_val[nan_column] = df_val[nan_column].fillna(0)\n",
    "    \n",
    "    # Train the model\n",
    "    w0, w = train_linear_regression(df_train.values, y_train)\n",
    "    \n",
    "    # Make predictions\n",
    "    y_pred = w0 + df_val.dot(w)\n",
    "    \n",
    "    # Return the RMSE\n",
    "    return rmse(y_val, y_pred)\n",
    "\n",
    "# Fill missing values with mean (computed from training data) and train model\n",
    "def fill_missing_with_mean(df_train, df_val, nan_column, y_train, y_val):\n",
    "    # Compute the mean from the training set\n",
    "    mean_value = df_train[nan_column].mean()\n",
    "    \n",
    "    # Fill missing values in the train and validation sets\n",
    "    df_train[nan_column] = df_train[nan_column].fillna(mean_value)\n",
    "    df_val[nan_column] = df_val[nan_column].fillna(mean_value)\n",
    "    \n",
    "    # Train the model\n",
    "    w0, w = train_linear_regression(df_train.values, y_train)\n",
    "    \n",
    "    # Make predictions\n",
    "    y_pred = w0 + df_val.dot(w)\n",
    "    \n",
    "    # Return the RMSE\n",
    "    return rmse(y_val, y_pred)\n",
    "\n",
    "df_train, df_val, df_test, y_train, y_val, y_test = df_shuffle_and_split(df, random_seed=42)\n",
    "\n",
    "# Identify the column with missing values (from Q1)\n",
    "nan_column = nan_columns[0]\n",
    "rmse_with_0 = fill_missing_with_0(df_train, df_val, nan_column, y_train, y_val)\n",
    "print(f\"RMSE when filling missing values with 0: {round(rmse_with_0, 2)}\")\n",
    "rmse_with_mean = fill_missing_with_mean(df_train, df_val, nan_column, y_train, y_val)\n",
    "print(f\"RMSE when filling missing values with mean: {round(rmse_with_mean, 2)}\")\n",
    "\n",
    "# Compare RMSEs\n",
    "if rmse_with_0 < rmse_with_mean:\n",
    "    print(\"Filling with 0 gives better RMSE.\")\n",
    "elif rmse_with_mean < rmse_with_0:\n",
    "    print(\"Filling with mean gives better RMSE.\")\n",
    "else:\n",
    "    print(\"Both approaches give the same RMSE.\")\n"
   ]
  },
  {
   "cell_type": "markdown",
   "id": "0ec4105d-3649-45d5-a91a-1d3160a30e0a",
   "metadata": {},
   "source": [
    "# Q4 adding regularizartion"
   ]
  },
  {
   "cell_type": "code",
   "execution_count": 20,
   "id": "fd678402-1d2d-40a5-8215-f4924a0487f1",
   "metadata": {},
   "outputs": [],
   "source": [
    "# Regularized linear regression function\n",
    "def train_linear_regression_reg(X, y, r):\n",
    "    # Add a column of ones to X to account for the bias term (intercept w0)\n",
    "    X = np.hstack([np.ones((X.shape[0], 1)), X])\n",
    "    \n",
    "    # Regularization matrix (L2 regularization)\n",
    "    reg_matrix = r * np.eye(X.shape[1])\n",
    "    reg_matrix[0, 0] = 0  # Don't regularize the bias term\n",
    "    \n",
    "    # Compute the weights using the regularized normal equation\n",
    "    w = np.linalg.inv(X.T.dot(X) + reg_matrix).dot(X.T).dot(y)\n",
    "    \n",
    "    return w[0], w[1:]  # return intercept (w0) and the weights (w)\n",
    "\n"
   ]
  },
  {
   "cell_type": "code",
   "execution_count": 110,
   "id": "d82bff45-1e62-4518-ad9f-166bdbb61067",
   "metadata": {},
   "outputs": [
    {
     "name": "stdout",
     "output_type": "stream",
     "text": [
      "RMSE for r=0: 597.36\n",
      "RMSE for r=0.01: 597.36\n",
      "RMSE for r=1: 597.21\n",
      "RMSE for r=10: 597.06\n",
      "RMSE for r=100: 597.9\n",
      "\n",
      "The best r value is: 10 with RMSE: 597.06\n"
     ]
    }
   ],
   "source": [
    "r_values = [0, 0.01, 1, 10, 100]\n",
    "rmse_results = []\n",
    "\n",
    "for r in r_values:\n",
    "    \n",
    "    df_train, df_val, df_test, y_train, y_val, y_test = df_shuffle_and_split(df, random_seed=42)\n",
    "\n",
    "    # Fill missing values for the column identified in Q1\n",
    "    nan_column = nan_columns[0]\n",
    "    df_train[nan_column] = df_train[nan_column].fillna(0)\n",
    "    df_val[nan_column] = df_val[nan_column].fillna(0)\n",
    "    \n",
    "    # Train the regularized model\n",
    "    w0, w = train_linear_regression_reg(df_train.values, y_train, r)\n",
    "    \n",
    "    # Make predictions on the validation set\n",
    "    X_val = np.hstack([np.ones((df_val.shape[0], 1)), df_val.values])\n",
    "    y_pred_val = X_val.dot(np.hstack([w0, w]))\n",
    "    \n",
    "    # Calculate the RMSE\n",
    "    rmse_val = rmse(y_val, y_pred_val)\n",
    "    rmse_results.append((r, rmse_val))\n",
    "\n",
    "    print(f\"RMSE for r={r}: {round(rmse_val, 2)}\")\n",
    "\n",
    "# Find the best r (the one with the lowest RMSE)\n",
    "best_r, best_rmse = min(rmse_results, key=lambda x: x[1])\n",
    "print(f\"\\nThe best r value is: {best_r} with RMSE: {round(best_rmse, 2)}\")\n"
   ]
  },
  {
   "cell_type": "markdown",
   "id": "b2250bfe-446b-4191-b9e8-0f5e86facabc",
   "metadata": {},
   "source": [
    "# Q5 testing different seeds"
   ]
  },
  {
   "cell_type": "code",
   "execution_count": 111,
   "id": "857a9f4a-d20f-46f0-8288-4e410635403a",
   "metadata": {},
   "outputs": [
    {
     "name": "stdout",
     "output_type": "stream",
     "text": [
      "Seed 0: RMSE = 565.45\n",
      "Seed 1: RMSE = 636.8\n",
      "Seed 2: RMSE = 588.96\n",
      "Seed 3: RMSE = 597.81\n",
      "Seed 4: RMSE = 571.96\n",
      "Seed 5: RMSE = 573.24\n",
      "Seed 6: RMSE = 647.34\n",
      "Seed 7: RMSE = 550.44\n",
      "Seed 8: RMSE = 587.33\n",
      "Seed 9: RMSE = 576.1\n",
      "\n",
      "Standard deviation of RMSE: 29.176\n"
     ]
    }
   ],
   "source": [
    "seeds_list = [0, 1, 2, 3, 4, 5, 6, 7, 8, 9]\n",
    "rmse_results = []\n",
    "\n",
    "for seed in seeds_list:\n",
    "    # Split the data using the given seed\n",
    "    df_train, df_val, df_test, y_train, y_val, y_test = df_shuffle_and_split(df, random_seed=seed)\n",
    "    \n",
    "    nan_column = nan_columns[0]\n",
    "    df_train[nan_column] = df_train[nan_column].fillna(0)\n",
    "    df_val[nan_column] = df_val[nan_column].fillna(0)\n",
    "    \n",
    "    # Train the linear regression model (no regularization)\n",
    "    w0, w = train_linear_regression(df_train.values, y_train)\n",
    "    \n",
    "    # Make predictions on the validation set\n",
    "    X_val = np.hstack([np.ones((df_val.shape[0], 1)), df_val.values])\n",
    "    y_pred_val = X_val.dot(np.hstack([w0, w]))\n",
    "    \n",
    "    # Calculate RMSE and store the result\n",
    "    rmse_val = rmse(y_val, y_pred_val)\n",
    "    rmse_results.append(rmse_val)\n",
    "\n",
    "    print(f\"Seed {seed}: RMSE = {round(rmse_val, 2)}\")\n",
    "\n",
    "# Calculate the standard deviation of RMSE scores\n",
    "std_rmse = np.std(rmse_results)\n",
    "print(f\"\\nStandard deviation of RMSE: {round(std_rmse, 3)}\")\n"
   ]
  },
  {
   "cell_type": "markdown",
   "id": "6e94638b-5f0e-4753-adc0-78763a47383d",
   "metadata": {},
   "source": [
    "# Question 6"
   ]
  },
  {
   "cell_type": "code",
   "execution_count": 114,
   "id": "aba98e63-a297-407b-ac51-4bbcd055cfd8",
   "metadata": {},
   "outputs": [
    {
     "name": "stdout",
     "output_type": "stream",
     "text": [
      "RMSE on the test set with r=0.001 and seed=9: 608.61\n"
     ]
    }
   ],
   "source": [
    "df_train, df_val, df_test, y_train, y_val, y_test = df_shuffle_and_split(df, random_seed=9)\n",
    "\n",
    "X_combined = pd.concat([df_train, df_val]).reset_index(drop=True)\n",
    "y_combined = np.concatenate([y_train, y_val])\n",
    "nan_column = nan_columns[0]\n",
    "X_combined[nan_column] = X_combined[nan_column].fillna(0)\n",
    "df_test[nan_column] = df_test[nan_column].fillna(0)\n",
    "\n",
    "\n",
    "w0, w = train_linear_regression_reg(X_combined.values, y_combined, r=0.001)\n",
    "\n",
    "\n",
    "X_test = np.hstack([np.ones((df_test.shape[0], 1)), df_test.values])\n",
    "y_pred_test = X_test.dot(np.hstack([w0, w]))\n",
    "\n",
    "\n",
    "rmse_test = rmse(y_test, y_pred_test)\n",
    "print(f\"RMSE on the test set with r=0.001 and seed=9: {round(rmse_test, 2)}\")\n"
   ]
  }
 ],
 "metadata": {
  "kernelspec": {
   "display_name": "Python 3 (ipykernel)",
   "language": "python",
   "name": "python3"
  },
  "language_info": {
   "codemirror_mode": {
    "name": "ipython",
    "version": 3
   },
   "file_extension": ".py",
   "mimetype": "text/x-python",
   "name": "python",
   "nbconvert_exporter": "python",
   "pygments_lexer": "ipython3",
   "version": "3.10.13"
  }
 },
 "nbformat": 4,
 "nbformat_minor": 5
}

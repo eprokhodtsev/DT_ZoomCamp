{
 "cells": [
  {
   "cell_type": "code",
   "execution_count": 1,
   "id": "29eb0e20-f76f-4e27-87fe-5e912a9da638",
   "metadata": {},
   "outputs": [],
   "source": [
    "import pandas as pd\n",
    "from sklearn.model_selection import train_test_split\n",
    "from sklearn.feature_extraction import DictVectorizer\n",
    "\n"
   ]
  },
  {
   "cell_type": "code",
   "execution_count": 2,
   "id": "976b36c1-1e4d-4aab-8587-4aefd26495ed",
   "metadata": {},
   "outputs": [],
   "source": [
    "# Load the dataset\n",
    "url = 'https://github.com/alexeygrigorev/datasets/raw/refs/heads/master/jamb_exam_results.csv'\n",
    "df = pd.read_csv(url)\n"
   ]
  },
  {
   "cell_type": "code",
   "execution_count": 3,
   "id": "c6796569-bb27-4f6d-bbd0-8dc2a58ecdcc",
   "metadata": {},
   "outputs": [],
   "source": [
    "\n",
    "# Lowercase column names and replace spaces with underscores\n",
    "df.columns = df.columns.str.lower().str.replace(' ', '_')\n",
    "\n",
    "# Remove the 'student_id' column\n",
    "df = df.drop('student_id', axis=1)\n",
    "\n",
    "# Fill missing values with zeros\n",
    "df = df.fillna(0)\n",
    "\n",
    "# Split the dataset into train, validation, and test sets with a 60%/20%/20% distribution\n",
    "df_train, df_temp = train_test_split(df, test_size=0.4, random_state=1)\n",
    "df_val, df_test = train_test_split(df_temp, test_size=0.5, random_state=1)\n",
    "\n",
    "# Separate target variable ('jamb_score') and remove it from feature sets\n",
    "y_train = df_train['jamb_score'].values\n",
    "y_val = df_val['jamb_score'].values\n",
    "y_test = df_test['jamb_score'].values\n",
    "\n",
    "X_train = df_train.drop('jamb_score', axis=1)\n",
    "X_val = df_val.drop('jamb_score', axis=1)\n",
    "X_test = df_test.drop('jamb_score', axis=1)\n",
    "\n",
    "# Convert dataframes to dictionaries and use DictVectorizer to transform them into matrices\n",
    "dv = DictVectorizer(sparse=True)\n",
    "\n",
    "X_train = dv.fit_transform(X_train.to_dict(orient='records'))\n",
    "X_val = dv.transform(X_val.to_dict(orient='records'))\n",
    "X_test = dv.transform(X_test.to_dict(orient='records'))\n"
   ]
  },
  {
   "cell_type": "markdown",
   "id": "c62ba510-c816-40de-9194-bf633ff675cf",
   "metadata": {},
   "source": [
    "# Question 1"
   ]
  },
  {
   "cell_type": "code",
   "execution_count": 4,
   "id": "ba0e4d4b-747f-44d7-a022-234c5f060cdb",
   "metadata": {},
   "outputs": [
    {
     "data": {
      "text/plain": [
       "'study_hours_per_week'"
      ]
     },
     "execution_count": 4,
     "metadata": {},
     "output_type": "execute_result"
    }
   ],
   "source": [
    "from sklearn.tree import DecisionTreeRegressor\n",
    "\n",
    "# Train a Decision Tree Regressor with max_depth=1\n",
    "dt = DecisionTreeRegressor(max_depth=1, random_state=1)\n",
    "dt.fit(X_train, y_train)\n",
    "\n",
    "# Get the feature used for splitting\n",
    "feature_index = dt.tree_.feature[0]  # Index of the splitting feature\n",
    "split_feature = dv.feature_names_[feature_index]  # Feature name based on DictVectorizer\n",
    "\n",
    "split_feature\n"
   ]
  },
  {
   "cell_type": "markdown",
   "id": "923f0f2c-60fe-4efe-8b2b-fd0719f5d3ca",
   "metadata": {},
   "source": [
    "# Question 2"
   ]
  },
  {
   "cell_type": "code",
   "execution_count": 5,
   "id": "3433ee9b-d25f-427a-a843-952f46ed07e6",
   "metadata": {},
   "outputs": [
    {
     "data": {
      "text/plain": [
       "43.157758977963624"
      ]
     },
     "execution_count": 5,
     "metadata": {},
     "output_type": "execute_result"
    }
   ],
   "source": [
    "from sklearn.ensemble import RandomForestRegressor\n",
    "from sklearn.metrics import mean_squared_error\n",
    "import numpy as np\n",
    "\n",
    "# Train a Random Forest Regressor with the given parameters\n",
    "rf = RandomForestRegressor(n_estimators=10, random_state=1, n_jobs=-1)\n",
    "rf.fit(X_train, y_train)\n",
    "\n",
    "# Predict on the validation set\n",
    "y_pred_val = rf.predict(X_val)\n",
    "\n",
    "# Calculate RMSE\n",
    "rmse = np.sqrt(mean_squared_error(y_val, y_pred_val))\n",
    "rmse\n"
   ]
  },
  {
   "cell_type": "markdown",
   "id": "5897de4d-da34-4c31-bcfe-c5090f6f72ab",
   "metadata": {},
   "source": [
    "# Question 3"
   ]
  },
  {
   "cell_type": "code",
   "execution_count": 10,
   "id": "8c405661-96fb-4d9f-b5a4-1d40253630d9",
   "metadata": {},
   "outputs": [
    {
     "data": {
      "image/png": "[encoded data removed]",
      "text/plain": [
       "<Figure size 640x480 with 1 Axes>"
      ]
     },
     "metadata": {},
     "output_type": "display_data"
    },
    {
     "data": {
      "text/plain": [
       "190"
      ]
     },
     "execution_count": 10,
     "metadata": {},
     "output_type": "execute_result"
    }
   ],
   "source": [
    "# List to store RMSE scores\n",
    "rmse_scores = []\n",
    "\n",
    "# Loop through each value of n_estimators and calculate RMSE\n",
    "for n in range(10, 210, 10):\n",
    "    rf = RandomForestRegressor(n_estimators=n, random_state=1, n_jobs=-1)\n",
    "    rf.fit(X_train, y_train)\n",
    "    y_pred_val = rf.predict(X_val)\n",
    "    rmse = np.sqrt(mean_squared_error(y_val, y_pred_val))\n",
    "    rmse_scores.append((n, round(rmse, 3)))  # Round RMSE to 3 decimal points\n",
    "\n",
    "# Plot RMSE scores\n",
    "n_values, rmse_values = zip(*rmse_scores)\n",
    "plt.plot(n_values, rmse_values, marker='o')\n",
    "plt.xlabel(\"n_estimators\")\n",
    "plt.ylabel(\"RMSE\")\n",
    "plt.show()\n",
    "\n",
    "# Identify the latest point where RMSE stops improving\n",
    "n_stabilizes = None\n",
    "for i in range(1, len(rmse_values)):\n",
    "    if rmse_values[i] >= rmse_values[i - 1]:  # No further improvement\n",
    "        n_stabilizes = n_values[i]\n",
    "        break\n",
    "\n",
    "n_stabilizes = n_stabilizes if n_stabilizes is not None else n_values[-1]\n",
    "n_stabilizes\n"
   ]
  },
  {
   "cell_type": "markdown",
   "id": "870f5ef1-92f4-4a96-881e-449c1d8e420b",
   "metadata": {},
   "source": [
    "# Question 4"
   ]
  },
  {
   "cell_type": "code",
   "execution_count": 12,
   "id": "156d95ad-97c1-4113-8cee-5895c56b464a",
   "metadata": {},
   "outputs": [
    {
     "data": {
      "text/plain": [
       "10"
      ]
     },
     "execution_count": 12,
     "metadata": {},
     "output_type": "execute_result"
    }
   ],
   "source": [
    "# Initialize variables to store results\n",
    "results = []\n",
    "\n",
    "# Loop through each max_depth and n_estimators\n",
    "for max_depth in [10, 15, 20, 25]:\n",
    "    rmse_values = []\n",
    "    \n",
    "    for n in range(10, 210, 10):\n",
    "        rf = RandomForestRegressor(n_estimators=n, max_depth=max_depth, random_state=1, n_jobs=-1)\n",
    "        rf.fit(X_train, y_train)\n",
    "        \n",
    "        # Predict on the validation set and calculate RMSE\n",
    "        y_pred_val = rf.predict(X_val)\n",
    "        rmse = np.sqrt(mean_squared_error(y_val, y_pred_val))\n",
    "        rmse_values.append(rmse)\n",
    "    \n",
    "    # Calculate mean RMSE for the current max_depth\n",
    "    mean_rmse = np.mean(rmse_values)\n",
    "    results.append((max_depth, mean_rmse))\n",
    "\n",
    "# Find the max_depth with the lowest mean RMSE\n",
    "best_max_depth, best_mean_rmse = min(results, key=lambda x: x[1])\n",
    "\n",
    "best_max_depth\n"
   ]
  },
  {
   "cell_type": "markdown",
   "id": "9f505cfb-4208-448e-9bf4-84888c14478f",
   "metadata": {},
   "source": [
    "# Question 5"
   ]
  },
  {
   "cell_type": "code",
   "execution_count": 13,
   "id": "0fc84b87-1d55-4960-85ff-1ec15f34459b",
   "metadata": {},
   "outputs": [
    {
     "name": "stdout",
     "output_type": "stream",
     "text": [
      "study_hours_per_week: 0.25407520246568593\n"
     ]
    }
   ],
   "source": [
    "# Train the Random Forest model with specified parameters\n",
    "rf = RandomForestRegressor(n_estimators=10, max_depth=20, random_state=1, n_jobs=-1)\n",
    "rf.fit(X_train, y_train)\n",
    "\n",
    "# Extract feature importances\n",
    "importances = rf.feature_importances_\n",
    "feature_names = dv.get_feature_names_out()\n",
    "\n",
    "# Create a dictionary of feature names and their importances, then sort it\n",
    "feature_importance_dict = dict(zip(feature_names, importances))\n",
    "sorted_features = sorted(feature_importance_dict.items(), key=lambda x: x[1], reverse=True)\n",
    "\n",
    "# Print the most important feature among the specified ones\n",
    "for feature, importance in sorted_features:\n",
    "    if feature in ['study_hours_per_week', 'attendance_rate', 'distance_to_school', 'teacher_quality']:\n",
    "        print(f\"{feature}: {importance}\")\n",
    "        break\n"
   ]
  },
  {
   "cell_type": "markdown",
   "id": "66720ce2-0a89-42c2-97da-6a0cbaeaf024",
   "metadata": {},
   "source": [
    "# Question 6"
   ]
  },
  {
   "cell_type": "code",
   "execution_count": 17,
   "id": "90226d3d-fc1d-45aa-9798-9cfef674f308",
   "metadata": {},
   "outputs": [
    {
     "data": {
      "text/plain": [
       "0.1"
      ]
     },
     "execution_count": 17,
     "metadata": {},
     "output_type": "execute_result"
    }
   ],
   "source": [
    "import xgboost as xgb\n",
    "from sklearn.metrics import mean_squared_error\n",
    "import numpy as np\n",
    "\n",
    "# Create DMatrix for training and validation\n",
    "dtrain = xgb.DMatrix(X_train, label=y_train)\n",
    "dval = xgb.DMatrix(X_val, label=y_val)\n",
    "\n",
    "# Create a watchlist to monitor the training and validation error\n",
    "watchlist = [(dtrain, 'train'), (dval, 'val')]\n",
    "\n",
    "# Define XGBoost parameters\n",
    "xgb_params = {\n",
    "    'max_depth': 6,\n",
    "    'min_child_weight': 1,\n",
    "    'objective': 'reg:squarederror',\n",
    "    'nthread': 8,\n",
    "    'seed': 1,\n",
    "    'verbosity': 1,\n",
    "}\n",
    "\n",
    "# Function to train XGBoost model and return best RMSE on validation\n",
    "def train_xgb(eta):\n",
    "    params = xgb_params.copy()\n",
    "    params['eta'] = eta\n",
    "    model = xgb.train(params, dtrain, num_boost_round=100, evals=watchlist, early_stopping_rounds=10, verbose_eval=False)\n",
    "    \n",
    "    # Get the best RMSE on the validation set\n",
    "    best_rmse = np.sqrt(mean_squared_error(y_val, model.predict(dval)))\n",
    "    return best_rmse\n",
    "\n",
    "# Train models with eta=0.3 and eta=0.1\n",
    "rmse_eta_03 = train_xgb(0.3)\n",
    "rmse_eta_01 = train_xgb(0.1)\n",
    "\n",
    "# Compare RMSE scores\n",
    "best_eta = 0.3 if rmse_eta_03 < rmse_eta_01 else 0.1\n",
    "best_eta\n"
   ]
  }
 ],
 "metadata": {
  "kernelspec": {
   "display_name": "Python 3 (ipykernel)",
   "language": "python",
   "name": "python3"
  },
  "language_info": {
   "codemirror_mode": {
    "name": "ipython",
    "version": 3
   },
   "file_extension": ".py",
   "mimetype": "text/x-python",
   "name": "python",
   "nbconvert_exporter": "python",
   "pygments_lexer": "ipython3",
   "version": "3.10.13"
  }
 },
 "nbformat": 4,
 "nbformat_minor": 5
}

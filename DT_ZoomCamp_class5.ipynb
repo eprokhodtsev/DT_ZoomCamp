{
 "cells": [
  {
   "cell_type": "code",
   "execution_count": 9,
   "id": "cd734d58-d7b2-4add-8a5d-30b516df8c9f",
   "metadata": {},
   "outputs": [],
   "source": [
    "import pickle\n",
    "import numpy as np\n",
    "from flask import Flask, request, jsonify\n",
    "import pickle\n"
   ]
  },
  {
   "cell_type": "markdown",
   "id": "0082e9c2-e1f8-47c6-8a38-8c06f01b7ced",
   "metadata": {},
   "source": [
    "# Question 1"
   ]
  },
  {
   "cell_type": "code",
   "execution_count": 3,
   "id": "e532e372-c443-4879-b9ad-e3153ccde553",
   "metadata": {
    "scrolled": true
   },
   "outputs": [
    {
     "name": "stdout",
     "output_type": "stream",
     "text": [
      "Collecting pipenv\n",
      "  Downloading pipenv-2024.2.0-py3-none-any.whl.metadata (19 kB)\n",
      "Requirement already satisfied: certifi in /Users/egor_prokhodtsev/anaconda3/envs/my_quant_lab/lib/python3.10/site-packages (from pipenv) (2024.7.4)\n",
      "Requirement already satisfied: packaging>=22 in /Users/egor_prokhodtsev/anaconda3/envs/my_quant_lab/lib/python3.10/site-packages (from pipenv) (24.1)\n",
      "Requirement already satisfied: setuptools>=67 in /Users/egor_prokhodtsev/anaconda3/envs/my_quant_lab/lib/python3.10/site-packages (from pipenv) (69.5.1)\n",
      "Collecting virtualenv>=20.24.2 (from pipenv)\n",
      "  Downloading virtualenv-20.27.0-py3-none-any.whl.metadata (4.5 kB)\n",
      "Collecting distlib<1,>=0.3.7 (from virtualenv>=20.24.2->pipenv)\n",
      "  Downloading distlib-0.3.9-py2.py3-none-any.whl.metadata (5.2 kB)\n",
      "Collecting filelock<4,>=3.12.2 (from virtualenv>=20.24.2->pipenv)\n",
      "  Downloading filelock-3.16.1-py3-none-any.whl.metadata (2.9 kB)\n",
      "Requirement already satisfied: platformdirs<5,>=3.9.1 in /Users/egor_prokhodtsev/anaconda3/envs/my_quant_lab/lib/python3.10/site-packages (from virtualenv>=20.24.2->pipenv) (4.2.2)\n",
      "Downloading pipenv-2024.2.0-py3-none-any.whl (3.0 MB)\n",
      "\u001b[2K   \u001b[90m━━━━━━━━━━━━━━━━━━━━━━━━━━━━━━━━━━━━━━━━\u001b[0m \u001b[32m3.0/3.0 MB\u001b[0m \u001b[31m683.4 kB/s\u001b[0m eta \u001b[36m0:00:00\u001b[0m00:01\u001b[0m00:01\u001b[0m\n",
      "\u001b[?25hDownloading virtualenv-20.27.0-py3-none-any.whl (3.1 MB)\n",
      "\u001b[2K   \u001b[90m━━━━━━━━━━━━━━━━━━━━━━━━━━━━━━━━━━━━━━━━\u001b[0m \u001b[32m3.1/3.1 MB\u001b[0m \u001b[31m602.1 kB/s\u001b[0m eta \u001b[36m0:00:00\u001b[0m00:01\u001b[0m00:01\u001b[0m\n",
      "\u001b[?25hDownloading distlib-0.3.9-py2.py3-none-any.whl (468 kB)\n",
      "\u001b[2K   \u001b[90m━━━━━━━━━━━━━━━━━━━━━━━━━━━━━━━━━━━━━━━\u001b[0m \u001b[32m469.0/469.0 kB\u001b[0m \u001b[31m687.0 kB/s\u001b[0m eta \u001b[36m0:00:00\u001b[0ma \u001b[36m0:00:01\u001b[0m\n",
      "\u001b[?25hDownloading filelock-3.16.1-py3-none-any.whl (16 kB)\n",
      "Installing collected packages: distlib, filelock, virtualenv, pipenv\n",
      "Successfully installed distlib-0.3.9 filelock-3.16.1 pipenv-2024.2.0 virtualenv-20.27.0\n"
     ]
    }
   ],
   "source": [
    "!pip install pipenv"
   ]
  },
  {
   "cell_type": "code",
   "execution_count": 6,
   "id": "388121d0-7b00-448a-b64e-b9d70879f9fb",
   "metadata": {},
   "outputs": [
    {
     "name": "stdout",
     "output_type": "stream",
     "text": [
      "\u001b[1mpipenv\u001b[0m, version 2024.2.0\n"
     ]
    }
   ],
   "source": [
    "!pipenv --version  "
   ]
  },
  {
   "cell_type": "markdown",
   "id": "9d04de49-eff7-4e04-8be5-3f1614a41272",
   "metadata": {},
   "source": [
    "# Question 2"
   ]
  },
  {
   "cell_type": "code",
   "execution_count": 1,
   "id": "18b816b2-4451-4bee-ad18-acd342a77346",
   "metadata": {},
   "outputs": [
    {
     "name": "stdout",
     "output_type": "stream",
     "text": [
      "\u001b[1mCreating a virtualenv for this project\u001b[0m\n",
      "Pipfile: \u001b[1;33m/Users/egor_prokhodtsev/Jupyter_projects/DT_ML_zoomcamp/HW5/\u001b[0m\u001b[1;33mPipfile\u001b[0m\n",
      "\u001b[1mUsing\u001b[0m \u001b[1;33m/Users/egor_prokhodtsev/anaconda3/envs/my_quant_lab/bin/\u001b[0m\u001b[1;33mpython3\u001b[0m\u001b[32m3.10.13\u001b[0m\u001b[32m \u001b[0m\u001b[1;32mto \u001b[0m\n",
      "\u001b[1;32mcreate virtualenv\u001b[0m\u001b[1;32m...\u001b[0m\n",
      "\u001b[2K\u001b[32m⠧\u001b[0m Creating virtual environment.....\u001b[36mcreated virtual environment CPython3.\u001b[0m\u001b[1;36m10.13\u001b[0m\u001b[36m.final.\u001b[0m\u001b[1;36m0\u001b[0m\u001b[36m-\u001b[0m\u001b[1;36m64\u001b[0m\u001b[36m in 510ms\u001b[0m\n",
      "\u001b[36m  creator \u001b[0m\n",
      "\u001b[1;36mCPython3Posix\u001b[0m\u001b[1;36m(\u001b[0m\u001b[36mdest\u001b[0m\u001b[36m=\u001b[0m\u001b[36m/Users/egor_prokhodtsev/.local/share/virtualenvs/\u001b[0m\u001b[36mHW5-o9Wbqzz-\u001b[0m\n",
      "\u001b[36m, \u001b[0m\u001b[36mclear\u001b[0m\u001b[36m=\u001b[0m\u001b[3;36mFalse\u001b[0m\u001b[36m, \u001b[0m\u001b[36mno_vcs_ignore\u001b[0m\u001b[36m=\u001b[0m\u001b[3;36mFalse\u001b[0m\u001b[36m, \u001b[0m\u001b[36mglobal\u001b[0m\u001b[36m=\u001b[0m\u001b[3;36mFalse\u001b[0m\u001b[1;36m)\u001b[0m\n",
      "\u001b[36m  seeder \u001b[0m\u001b[1;36mFromAppData\u001b[0m\u001b[1;36m(\u001b[0m\u001b[36mdownload\u001b[0m\u001b[36m=\u001b[0m\u001b[3;36mFalse\u001b[0m\u001b[36m, \u001b[0m\u001b[36mpip\u001b[0m\u001b[36m=\u001b[0m\u001b[36mbundle\u001b[0m\u001b[36m, \u001b[0m\u001b[36msetuptools\u001b[0m\u001b[36m=\u001b[0m\u001b[36mbundle\u001b[0m\u001b[36m, \u001b[0m\n",
      "\u001b[36mwheel\u001b[0m\u001b[36m=\u001b[0m\u001b[36mbundle\u001b[0m\u001b[36m, \u001b[0m\u001b[36mvia\u001b[0m\u001b[36m=\u001b[0m\u001b[36mcopy\u001b[0m\u001b[36m, \u001b[0m\u001b[36mapp_data_dir\u001b[0m\u001b[36m=\u001b[0m\u001b[36m/Users/egor_prokhodtsev/Library/\u001b[0m\u001b[36mApplication\u001b[0m\n",
      "\u001b[36mSupport/virtualenv\u001b[0m\u001b[1;36m)\u001b[0m\n",
      "\u001b[36m    added seed packages: \u001b[0m\u001b[36mpip\u001b[0m\u001b[36m==\u001b[0m\u001b[1;36m24.2\u001b[0m\u001b[36m, \u001b[0m\u001b[36msetuptools\u001b[0m\u001b[36m==\u001b[0m\u001b[1;36m75.2\u001b[0m\u001b[36m.\u001b[0m\u001b[1;36m0\u001b[0m\u001b[36m, \u001b[0m\u001b[36mwheel\u001b[0m\u001b[36m==\u001b[0m\u001b[1;36m0.44\u001b[0m\u001b[36m.\u001b[0m\u001b[1;36m0\u001b[0m\n",
      "\u001b[36m  activators \u001b[0m\n",
      "\u001b[36mBashActivator,CShellActivator,FishActivator,NushellActivator,PowerShellActivator\u001b[0m\n",
      "\u001b[36m,PythonActivator\u001b[0m\n",
      "\n",
      "✔ Successfully created virtual environment!\n",
      "\u001b[2K\u001b[32m⠇\u001b[0m Creating virtual environment...\n",
      "\u001b[1A\u001b[2K\u001b[32mVirtualenv location: \u001b[0m\u001b[32m/Users/egor_prokhodtsev/.local/share/virtualenvs/\u001b[0m\u001b[32mHW5-o9Wbqzz-\u001b[0m\n",
      "\u001b[1mCreating a Pipfile for this project\u001b[0m\u001b[1;33m...\u001b[0m\n"
     ]
    }
   ],
   "source": [
    "!pipenv --python 3.x  # Replace '3.x' with the desired Python version, e.g., 3.8\n"
   ]
  },
  {
   "cell_type": "code",
   "execution_count": 2,
   "id": "37af045f-0f56-4fbe-9771-12fc43653be4",
   "metadata": {},
   "outputs": [
    {
     "name": "stdout",
     "output_type": "stream",
     "text": [
      "\u001b[1mPipfile.lock not found, creating\u001b[0m\u001b[1;33m...\u001b[0m\n",
      "Locking\u001b[0m \u001b[33m[packages]\u001b[0m dependencies...\u001b[0m\n",
      "Locking\u001b[0m \u001b[33m[dev-packages]\u001b[0m dependencies...\u001b[0m\n",
      "\u001b[1mUpdated Pipfile.lock (cb288235b1c7ea9c9d33a191d187584ff0728e69080e0cd752bcb9ed225c6c2a)!\u001b[0m\n",
      "To activate this project's virtualenv, run \u001b[33mpipenv shell\u001b[0m.\n",
      "Alternatively, run a command inside the virtualenv with \u001b[33mpipenv run\u001b[0m.\n",
      "\u001b[1;32mInstalling scikit-learn==1.5.2...\u001b[0m\n",
      "✔ Installation Succeeded\n",
      "\u001b[?25lBuilding requirements...\n",
      "\u001b[2KResolving dependencies....\n",
      "\u001b[2K✔ Success! Locking packages...\n",
      "\u001b[2K\u001b[32m⠏\u001b[0m Locking packages...\n",
      "\u001b[1A\u001b[2K\u001b[?25lBuilding requirements...\n",
      "\u001b[2KResolving dependencies....\n",
      "\u001b[2K✔ Success! Locking packages...\n",
      "\u001b[2K\u001b[32m⠇\u001b[0m Locking packages...\n",
      "\u001b[1A\u001b[2KTo activate this project's virtualenv, run \u001b[33mpipenv shell\u001b[0m.\n",
      "Alternatively, run a command inside the virtualenv with \u001b[33mpipenv run\u001b[0m.\n",
      "\u001b[1mInstalling dependencies from Pipfile.lock (29aa06)...\u001b[0m\n",
      "\u001b[32mAll dependencies are now up-to-date!\u001b[0m\n",
      "\u001b[1mInstalling dependencies from Pipfile.lock (29aa06)...\u001b[0m\n"
     ]
    }
   ],
   "source": [
    "!pipenv install scikit-learn==1.5.2\n"
   ]
  },
  {
   "cell_type": "code",
   "execution_count": 3,
   "id": "c811a5d2-c497-46ef-9928-97fddcbfdf2b",
   "metadata": {
    "scrolled": true
   },
   "outputs": [
    {
     "name": "stdout",
     "output_type": "stream",
     "text": [
      "{\n",
      "    \"_meta\": {\n",
      "        \"hash\": {\n",
      "            \"sha256\": \"6ce97deb8ac18ab7a1c0ee74ed1b770f88cc7095ac8c6b4be36b31e3cc29aa06\"\n",
      "        },\n",
      "        \"pipfile-spec\": 6,\n",
      "        \"requires\": {\n",
      "            \"python_full_version\": \"3.10.13\",\n",
      "            \"python_version\": \"3.10\"\n",
      "        },\n",
      "        \"sources\": [\n",
      "            {\n",
      "                \"name\": \"pypi\",\n",
      "                \"url\": \"https://pypi.org/simple\",\n",
      "                \"verify_ssl\": true\n",
      "            }\n",
      "        ]\n",
      "    },\n",
      "    \"default\": {\n",
      "        \"joblib\": {\n",
      "            \"hashes\": [\n",
      "                \"sha256:06d478d5674cbc267e7496a410ee875abd68e4340feff4490bcb7afb88060ae6\",\n",
      "                \"sha256:2382c5816b2636fbd20a09e0f4e9dad4736765fdfb7dca582943b9c1366b3f0e\"\n",
      "            ],\n",
      "            \"markers\": \"python_version >= '3.8'\",\n",
      "            \"version\": \"==1.4.2\"\n",
      "        },\n",
      "        \"numpy\": {\n",
      "            \"hashes\": [\n",
      "                \"sha256:05b2d4e667895cc55e3ff2b56077e4c8a5604361fc21a042845ea3ad67465aa8\",\n",
      "                \"sha256:12edb90831ff481f7ef5f6bc6431a9d74dc0e5ff401559a71e5e4611d4f2d466\",\n",
      "                \"sha256:13311c2db4c5f7609b462bc0f43d3c465424d25c626d95040f073e30f7570e35\",\n",
      "                \"sha256:13532a088217fa624c99b843eeb54640de23b3414b14aa66d023805eb731066c\",\n",
      "                \"sha256:13602b3174432a35b16c4cfb5de9a12d229727c3dd47a6ce35111f2ebdf66ff4\",\n",
      "                \"sha256:1600068c262af1ca9580a527d43dc9d959b0b1d8e56f8a05d830eea39b7c8af6\",\n",
      "                \"sha256:1b8cde4f11f0a975d1fd59373b32e2f5a562ade7cde4f85b7137f3de8fbb29a0\",\n",
      "                \"sha256:1c193d0b0238638e6fc5f10f1b074a6993cb13b0b431f64079a509d63d3aa8b7\",\n",
      "                \"sha256:1ebec5fd716c5a5b3d8dfcc439be82a8407b7b24b230d0ad28a81b61c2f4659a\",\n",
      "                \"sha256:242b39d00e4944431a3cd2db2f5377e15b5785920421993770cddb89992c3f3a\",\n",
      "                \"sha256:259ec80d54999cc34cd1eb8ded513cb053c3bf4829152a2e00de2371bd406f5e\",\n",
      "                \"sha256:2abbf905a0b568706391ec6fa15161fad0fb5d8b68d73c461b3c1bab6064dd62\",\n",
      "                \"sha256:2cbba4b30bf31ddbe97f1c7205ef976909a93a66bb1583e983adbd155ba72ac2\",\n",
      "                \"sha256:2ffef621c14ebb0188a8633348504a35c13680d6da93ab5cb86f4e54b7e922b5\",\n",
      "                \"sha256:30d53720b726ec36a7f88dc873f0eec8447fbc93d93a8f079dfac2629598d6ee\",\n",
      "                \"sha256:32e16a03138cabe0cb28e1007ee82264296ac0983714094380b408097a418cfe\",\n",
      "                \"sha256:43cca367bf94a14aca50b89e9bc2061683116cfe864e56740e083392f533ce7a\",\n",
      "                \"sha256:456e3b11cb79ac9946c822a56346ec80275eaf2950314b249b512896c0d2505e\",\n",
      "                \"sha256:4d6ec0d4222e8ffdab1744da2560f07856421b367928026fb540e1945f2eeeaf\",\n",
      "                \"sha256:5006b13a06e0b38d561fab5ccc37581f23c9511879be7693bd33c7cd15ca227c\",\n",
      "                \"sha256:675c741d4739af2dc20cd6c6a5c4b7355c728167845e3c6b0e824e4e5d36a6c3\",\n",
      "                \"sha256:6cdb606a7478f9ad91c6283e238544451e3a95f30fb5467fbf715964341a8a86\",\n",
      "                \"sha256:6d95f286b8244b3649b477ac066c6906fbb2905f8ac19b170e2175d3d799f4df\",\n",
      "                \"sha256:76322dcdb16fccf2ac56f99048af32259dcc488d9b7e25b51e5eca5147a3fb98\",\n",
      "                \"sha256:7c1c60328bd964b53f8b835df69ae8198659e2b9302ff9ebb7de4e5a5994db3d\",\n",
      "                \"sha256:860ec6e63e2c5c2ee5e9121808145c7bf86c96cca9ad396c0bd3e0f2798ccbe2\",\n",
      "                \"sha256:8e00ea6fc82e8a804433d3e9cedaa1051a1422cb6e443011590c14d2dea59146\",\n",
      "                \"sha256:9c6c754df29ce6a89ed23afb25550d1c2d5fdb9901d9c67a16e0b16eaf7e2550\",\n",
      "                \"sha256:a26ae94658d3ba3781d5e103ac07a876b3e9b29db53f68ed7df432fd033358a8\",\n",
      "                \"sha256:a65acfdb9c6ebb8368490dbafe83c03c7e277b37e6857f0caeadbbc56e12f4fb\",\n",
      "                \"sha256:a7d80b2e904faa63068ead63107189164ca443b42dd1930299e0d1cb041cec2e\",\n",
      "                \"sha256:a84498e0d0a1174f2b3ed769b67b656aa5460c92c9554039e11f20a05650f00d\",\n",
      "                \"sha256:ab4754d432e3ac42d33a269c8567413bdb541689b02d93788af4131018cbf366\",\n",
      "                \"sha256:ad369ed238b1959dfbade9018a740fb9392c5ac4f9b5173f420bd4f37ba1f7a0\",\n",
      "                \"sha256:b1d0fcae4f0949f215d4632be684a539859b295e2d0cb14f78ec231915d644db\",\n",
      "                \"sha256:b42a1a511c81cc78cbc4539675713bbcf9d9c3913386243ceff0e9429ca892fe\",\n",
      "                \"sha256:bd33f82e95ba7ad632bc57837ee99dba3d7e006536200c4e9124089e1bf42426\",\n",
      "                \"sha256:bdd407c40483463898b84490770199d5714dcc9dd9b792f6c6caccc523c00952\",\n",
      "                \"sha256:c6eef7a2dbd0abfb0d9eaf78b73017dbfd0b54051102ff4e6a7b2980d5ac1a03\",\n",
      "                \"sha256:c82af4b2ddd2ee72d1fc0c6695048d457e00b3582ccde72d8a1c991b808bb20f\",\n",
      "                \"sha256:d666cb72687559689e9906197e3bec7b736764df6a2e58ee265e360663e9baf7\",\n",
      "                \"sha256:d7bf0a4f9f15b32b5ba53147369e94296f5fffb783db5aacc1be15b4bf72f43b\",\n",
      "                \"sha256:d82075752f40c0ddf57e6e02673a17f6cb0f8eb3f587f63ca1eaab5594da5b17\",\n",
      "                \"sha256:da65fb46d4cbb75cb417cddf6ba5e7582eb7bb0b47db4b99c9fe5787ce5d91f5\",\n",
      "                \"sha256:e2b49c3c0804e8ecb05d59af8386ec2f74877f7ca8fd9c1e00be2672e4d399b1\",\n",
      "                \"sha256:e585c8ae871fd38ac50598f4763d73ec5497b0de9a0ab4ef5b69f01c6a046142\",\n",
      "                \"sha256:e8d3ca0a72dd8846eb6f7dfe8f19088060fcb76931ed592d29128e0219652884\",\n",
      "                \"sha256:ef444c57d664d35cac4e18c298c47d7b504c66b17c2ea91312e979fcfbdfb08a\",\n",
      "                \"sha256:f1eb068ead09f4994dec71c24b2844f1e4e4e013b9629f812f292f04bd1510d9\",\n",
      "                \"sha256:f2ded8d9b6f68cc26f8425eda5d3877b47343e68ca23d0d0846f4d312ecaa445\",\n",
      "                \"sha256:f751ed0a2f250541e19dfca9f1eafa31a392c71c832b6bb9e113b10d050cb0f1\",\n",
      "                \"sha256:faa88bc527d0f097abdc2c663cddf37c05a1c2f113716601555249805cf573f1\",\n",
      "                \"sha256:fc44e3c68ff00fd991b59092a54350e6e4911152682b4782f68070985aa9e648\"\n",
      "            ],\n",
      "            \"markers\": \"python_version >= '3.10'\",\n",
      "            \"version\": \"==2.1.2\"\n",
      "        },\n",
      "        \"scikit-learn\": {\n",
      "            \"hashes\": [\n",
      "                \"sha256:03b6158efa3faaf1feea3faa884c840ebd61b6484167c711548fce208ea09445\",\n",
      "                \"sha256:178ddd0a5cb0044464fc1bfc4cca5b1833bfc7bb022d70b05db8530da4bb3dd3\",\n",
      "                \"sha256:1ff45e26928d3b4eb767a8f14a9a6efbf1cbff7c05d1fb0f95f211a89fd4f5de\",\n",
      "                \"sha256:299406827fb9a4f862626d0fe6c122f5f87f8910b86fe5daa4c32dcd742139b6\",\n",
      "                \"sha256:2d4cad1119c77930b235579ad0dc25e65c917e756fe80cab96aa3b9428bd3fb0\",\n",
      "                \"sha256:394397841449853c2290a32050382edaec3da89e35b3e03d6cc966aebc6a8ae6\",\n",
      "                \"sha256:3a686885a4b3818d9e62904d91b57fa757fc2bed3e465c8b177be652f4dd37c8\",\n",
      "                \"sha256:3b923d119d65b7bd555c73be5423bf06c0105678ce7e1f558cb4b40b0a5502b1\",\n",
      "                \"sha256:3bed4909ba187aca80580fe2ef370d9180dcf18e621a27c4cf2ef10d279a7efe\",\n",
      "                \"sha256:52788f48b5d8bca5c0736c175fa6bdaab2ef00a8f536cda698db61bd89c551c1\",\n",
      "                \"sha256:57cc1786cfd6bd118220a92ede80270132aa353647684efa385a74244a41e3b1\",\n",
      "                \"sha256:643964678f4b5fbdc95cbf8aec638acc7aa70f5f79ee2cdad1eec3df4ba6ead8\",\n",
      "                \"sha256:6c16d84a0d45e4894832b3c4d0bf73050939e21b99b01b6fd59cbb0cf39163b6\",\n",
      "                \"sha256:757c7d514ddb00ae249832fe87100d9c73c6ea91423802872d9e74970a0e40b9\",\n",
      "                \"sha256:8c412ccc2ad9bf3755915e3908e677b367ebc8d010acbb3f182814524f2e5540\",\n",
      "                \"sha256:b0768ad641981f5d3a198430a1d31c3e044ed2e8a6f22166b4d546a5116d7908\",\n",
      "                \"sha256:b4237ed7b3fdd0a4882792e68ef2545d5baa50aca3bb45aa7df468138ad8f94d\",\n",
      "                \"sha256:b7b0f9a0b1040830d38c39b91b3a44e1b643f4b36e36567b80b7c6bd2202a27f\",\n",
      "                \"sha256:c15b1ca23d7c5f33cc2cb0a0d6aaacf893792271cddff0edbd6a40e8319bc113\",\n",
      "                \"sha256:ca64b3089a6d9b9363cd3546f8978229dcbb737aceb2c12144ee3f70f95684b7\",\n",
      "                \"sha256:e9a702e2de732bbb20d3bad29ebd77fc05a6b427dc49964300340e4c9328b3f5\",\n",
      "                \"sha256:f60021ec1574e56632be2a36b946f8143bf4e5e6af4a06d85281adc22938e0dd\",\n",
      "                \"sha256:f7284ade780084d94505632241bf78c44ab3b6f1e8ccab3d2af58e0e950f9c12\",\n",
      "                \"sha256:f763897fe92d0e903aa4847b0aec0e68cadfff77e8a0687cabd946c89d17e675\",\n",
      "                \"sha256:f8b0ccd4a902836493e026c03256e8b206656f91fbcc4fde28c57a5b752561f1\",\n",
      "                \"sha256:f932a02c3f4956dfb981391ab24bda1dbd90fe3d628e4b42caef3e041c67707a\"\n",
      "            ],\n",
      "            \"index\": \"pypi\",\n",
      "            \"markers\": \"python_version >= '3.9'\",\n",
      "            \"version\": \"==1.5.2\"\n",
      "        },\n",
      "        \"scipy\": {\n",
      "            \"hashes\": [\n",
      "                \"sha256:0c2f95de3b04e26f5f3ad5bb05e74ba7f68b837133a4492414b3afd79dfe540e\",\n",
      "                \"sha256:1729560c906963fc8389f6aac023739ff3983e727b1a4d87696b7bf108316a79\",\n",
      "                \"sha256:278266012eb69f4a720827bdd2dc54b2271c97d84255b2faaa8f161a158c3b37\",\n",
      "                \"sha256:2843f2d527d9eebec9a43e6b406fb7266f3af25a751aa91d62ff416f54170bc5\",\n",
      "                \"sha256:2da0469a4ef0ecd3693761acbdc20f2fdeafb69e6819cc081308cc978153c675\",\n",
      "                \"sha256:2ff0a7e01e422c15739ecd64432743cf7aae2b03f3084288f399affcefe5222d\",\n",
      "                \"sha256:2ff38e22128e6c03ff73b6bb0f85f897d2362f8c052e3b8ad00532198fbdae3f\",\n",
      "                \"sha256:30ac8812c1d2aab7131a79ba62933a2a76f582d5dbbc695192453dae67ad6310\",\n",
      "                \"sha256:3a1b111fac6baec1c1d92f27e76511c9e7218f1695d61b59e05e0fe04dc59617\",\n",
      "                \"sha256:4079b90df244709e675cdc8b93bfd8a395d59af40b72e339c2287c91860deb8e\",\n",
      "                \"sha256:5149e3fd2d686e42144a093b206aef01932a0059c2a33ddfa67f5f035bdfe13e\",\n",
      "                \"sha256:5a275584e726026a5699459aa72f828a610821006228e841b94275c4a7c08417\",\n",
      "                \"sha256:631f07b3734d34aced009aaf6fedfd0eb3498a97e581c3b1e5f14a04164a456d\",\n",
      "                \"sha256:716e389b694c4bb564b4fc0c51bc84d381735e0d39d3f26ec1af2556ec6aad94\",\n",
      "                \"sha256:8426251ad1e4ad903a4514712d2fa8fdd5382c978010d1c6f5f37ef286a713ad\",\n",
      "                \"sha256:8475230e55549ab3f207bff11ebfc91c805dc3463ef62eda3ccf593254524ce8\",\n",
      "                \"sha256:8bddf15838ba768bb5f5083c1ea012d64c9a444e16192762bd858f1e126196d0\",\n",
      "                \"sha256:8e32dced201274bf96899e6491d9ba3e9a5f6b336708656466ad0522d8528f69\",\n",
      "                \"sha256:8f9ea80f2e65bdaa0b7627fb00cbeb2daf163caa015e59b7516395fe3bd1e066\",\n",
      "                \"sha256:97c5dddd5932bd2a1a31c927ba5e1463a53b87ca96b5c9bdf5dfd6096e27efc3\",\n",
      "                \"sha256:a49f6ed96f83966f576b33a44257d869756df6cf1ef4934f59dd58b25e0327e5\",\n",
      "                \"sha256:af29a935803cc707ab2ed7791c44288a682f9c8107bc00f0eccc4f92c08d6e07\",\n",
      "                \"sha256:b05d43735bb2f07d689f56f7b474788a13ed8adc484a85aa65c0fd931cf9ccd2\",\n",
      "                \"sha256:b28d2ca4add7ac16ae8bb6632a3c86e4b9e4d52d3e34267f6e1b0c1f8d87e389\",\n",
      "                \"sha256:b99722ea48b7ea25e8e015e8341ae74624f72e5f21fc2abd45f3a93266de4c5d\",\n",
      "                \"sha256:baff393942b550823bfce952bb62270ee17504d02a1801d7fd0719534dfb9c84\",\n",
      "                \"sha256:c0ee987efa6737242745f347835da2cc5bb9f1b42996a4d97d5c7ff7928cb6f2\",\n",
      "                \"sha256:d0d2821003174de06b69e58cef2316a6622b60ee613121199cb2852a873f8cf3\",\n",
      "                \"sha256:e0cf28db0f24a38b2a0ca33a85a54852586e43cf6fd876365c86e0657cfe7d73\",\n",
      "                \"sha256:e4f5a7c49323533f9103d4dacf4e4f07078f360743dec7f7596949149efeec06\",\n",
      "                \"sha256:eb58ca0abd96911932f688528977858681a59d61a7ce908ffd355957f7025cfc\",\n",
      "                \"sha256:edaf02b82cd7639db00dbff629995ef185c8df4c3ffa71a5562a595765a06ce1\",\n",
      "                \"sha256:fef8c87f8abfb884dac04e97824b61299880c43f4ce675dd2cbeadd3c9b466d2\"\n",
      "            ],\n",
      "            \"markers\": \"python_version >= '3.10'\",\n",
      "            \"version\": \"==1.14.1\"\n",
      "        },\n",
      "        \"threadpoolctl\": {\n",
      "            \"hashes\": [\n",
      "                \"sha256:082433502dd922bf738de0d8bcc4fdcbf0979ff44c42bd40f5af8a282f6fa107\",\n",
      "                \"sha256:56c1e26c150397e58c4926da8eeee87533b1e32bef131bd4bf6a2f45f3185467\"\n",
      "            ],\n",
      "            \"markers\": \"python_version >= '3.8'\",\n",
      "            \"version\": \"==3.5.0\"\n",
      "        }\n",
      "    },\n",
      "    \"develop\": {}\n",
      "}\n"
     ]
    }
   ],
   "source": [
    "!cat Pipfile.lock\n"
   ]
  },
  {
   "cell_type": "markdown",
   "id": "05c658cd-1f22-4292-ba79-fd65cdb0d82f",
   "metadata": {},
   "source": [
    "# model"
   ]
  },
  {
   "cell_type": "code",
   "execution_count": 4,
   "id": "67c372ea-5ce3-499d-bbaa-95328fb87d41",
   "metadata": {},
   "outputs": [
    {
     "name": "stdout",
     "output_type": "stream",
     "text": [
      "--2024-10-28 14:51:58--  https://raw.githubusercontent.com/DataTalksClub/machine-learning-zoomcamp/master/cohorts/2024/05-deployment/homework/model1.bin\n",
      "Resolving raw.githubusercontent.com (raw.githubusercontent.com)... 2606:50c0:8001::154, 2606:50c0:8000::154, 2606:50c0:8002::154, ...\n",
      "Connecting to raw.githubusercontent.com (raw.githubusercontent.com)|2606:50c0:8001::154|:443... connected.\n",
      "HTTP request sent, awaiting response... 200 OK\n",
      "Length: 850 [application/octet-stream]\n",
      "Saving to: ‘model1.bin’\n",
      "\n",
      "model1.bin          100%[===================>]     850  --.-KB/s    in 0s      \n",
      "\n",
      "2024-10-28 14:51:59 (1.85 MB/s) - ‘model1.bin’ saved [850/850]\n",
      "\n",
      "--2024-10-28 14:51:59--  https://raw.githubusercontent.com/DataTalksClub/machine-learning-zoomcamp/master/cohorts/2024/05-deployment/homework/dv.bin\n",
      "Resolving raw.githubusercontent.com (raw.githubusercontent.com)... 2606:50c0:8001::154, 2606:50c0:8000::154, 2606:50c0:8002::154, ...\n",
      "Connecting to raw.githubusercontent.com (raw.githubusercontent.com)|2606:50c0:8001::154|:443... connected.\n",
      "HTTP request sent, awaiting response... 200 OK\n",
      "Length: 560 [application/octet-stream]\n",
      "Saving to: ‘dv.bin’\n",
      "\n",
      "dv.bin              100%[===================>]     560  --.-KB/s    in 0s      \n",
      "\n",
      "2024-10-28 14:51:59 (8.34 MB/s) - ‘dv.bin’ saved [560/560]\n",
      "\n"
     ]
    }
   ],
   "source": [
    "PREFIX = \"https://raw.githubusercontent.com/DataTalksClub/machine-learning-zoomcamp/master/cohorts/2024/05-deployment/homework\"\n",
    "!wget {PREFIX}/model1.bin\n",
    "!wget {PREFIX}/dv.bin\n"
   ]
  },
  {
   "cell_type": "markdown",
   "id": "3e443a23-738c-4e25-9236-9e0fa10d92ae",
   "metadata": {},
   "source": [
    "# Question 4"
   ]
  },
  {
   "cell_type": "code",
   "execution_count": 6,
   "id": "a9e8b2ff-5e10-41cd-9ff9-afda84432463",
   "metadata": {},
   "outputs": [
    {
     "name": "stdout",
     "output_type": "stream",
     "text": [
      "The probability that this client will get a subscription is: 0.7591\n"
     ]
    },
    {
     "name": "stderr",
     "output_type": "stream",
     "text": [
      "/Users/egor_prokhodtsev/anaconda3/envs/my_quant_lab/lib/python3.10/site-packages/sklearn/base.py:376: InconsistentVersionWarning: Trying to unpickle estimator DictVectorizer from version 1.5.2 when using version 1.5.1. This might lead to breaking code or invalid results. Use at your own risk. For more info please refer to:\n",
      "https://scikit-learn.org/stable/model_persistence.html#security-maintainability-limitations\n",
      "  warnings.warn(\n",
      "/Users/egor_prokhodtsev/anaconda3/envs/my_quant_lab/lib/python3.10/site-packages/sklearn/base.py:376: InconsistentVersionWarning: Trying to unpickle estimator LogisticRegression from version 1.5.2 when using version 1.5.1. This might lead to breaking code or invalid results. Use at your own risk. For more info please refer to:\n",
      "https://scikit-learn.org/stable/model_persistence.html#security-maintainability-limitations\n",
      "  warnings.warn(\n"
     ]
    }
   ],
   "source": [
    "\n",
    "# Load the DictVectorizer and LogisticRegression model\n",
    "with open('dv.bin', 'rb') as f_in:\n",
    "    dv = pickle.load(f_in)\n",
    "\n",
    "with open('model1.bin', 'rb') as f_in:\n",
    "    model = pickle.load(f_in)\n",
    "\n",
    "# Define the client data\n",
    "client = {\"job\": \"management\", \"duration\": 400, \"poutcome\": \"success\"}\n",
    "\n",
    "# Transform client data using DictVectorizer\n",
    "X = dv.transform([client])\n",
    "\n",
    "# Score the client using the model\n",
    "probability = model.predict_proba(X)[0, 1]  # Probability of subscription (class 1)\n",
    "print(f\"The probability that this client will get a subscription is: {probability:.4f}\")\n"
   ]
  },
  {
   "cell_type": "markdown",
   "id": "8feaae2e-201e-4b7b-953a-9086db7fbf3c",
   "metadata": {},
   "source": [
    "# Question 5"
   ]
  },
  {
   "cell_type": "code",
   "execution_count": 7,
   "id": "b7b65db6-8367-484c-809c-67622542f280",
   "metadata": {
    "scrolled": true
   },
   "outputs": [
    {
     "name": "stdout",
     "output_type": "stream",
     "text": [
      "Collecting flask\n",
      "  Downloading flask-3.0.3-py3-none-any.whl.metadata (3.2 kB)\n",
      "Collecting gunicorn\n",
      "  Downloading gunicorn-23.0.0-py3-none-any.whl.metadata (4.4 kB)\n",
      "Requirement already satisfied: Werkzeug>=3.0.0 in /Users/egor_prokhodtsev/anaconda3/envs/my_quant_lab/lib/python3.10/site-packages (from flask) (3.0.4)\n",
      "Requirement already satisfied: Jinja2>=3.1.2 in /Users/egor_prokhodtsev/anaconda3/envs/my_quant_lab/lib/python3.10/site-packages (from flask) (3.1.4)\n",
      "Requirement already satisfied: itsdangerous>=2.1.2 in /Users/egor_prokhodtsev/anaconda3/envs/my_quant_lab/lib/python3.10/site-packages (from flask) (2.2.0)\n",
      "Requirement already satisfied: click>=8.1.3 in /Users/egor_prokhodtsev/anaconda3/envs/my_quant_lab/lib/python3.10/site-packages (from flask) (8.1.7)\n",
      "Collecting blinker>=1.6.2 (from flask)\n",
      "  Downloading blinker-1.8.2-py3-none-any.whl.metadata (1.6 kB)\n",
      "Requirement already satisfied: packaging in /Users/egor_prokhodtsev/anaconda3/envs/my_quant_lab/lib/python3.10/site-packages (from gunicorn) (24.1)\n",
      "Requirement already satisfied: MarkupSafe>=2.0 in /Users/egor_prokhodtsev/anaconda3/envs/my_quant_lab/lib/python3.10/site-packages (from Jinja2>=3.1.2->flask) (2.1.5)\n",
      "Downloading flask-3.0.3-py3-none-any.whl (101 kB)\n",
      "\u001b[2K   \u001b[90m━━━━━━━━━━━━━━━━━━━━━━━━━━━━━━━━━━━━━━━\u001b[0m \u001b[32m101.7/101.7 kB\u001b[0m \u001b[31m668.2 kB/s\u001b[0m eta \u001b[36m0:00:00\u001b[0ma \u001b[36m0:00:01\u001b[0m\n",
      "\u001b[?25hDownloading gunicorn-23.0.0-py3-none-any.whl (85 kB)\n",
      "\u001b[2K   \u001b[90m━━━━━━━━━━━━━━━━━━━━━━━━━━━━━━━━━━━━━━━━\u001b[0m \u001b[32m85.0/85.0 kB\u001b[0m \u001b[31m630.8 kB/s\u001b[0m eta \u001b[36m0:00:00\u001b[0ma \u001b[36m0:00:01\u001b[0m\n",
      "\u001b[?25hDownloading blinker-1.8.2-py3-none-any.whl (9.5 kB)\n",
      "Installing collected packages: gunicorn, blinker, flask\n",
      "Successfully installed blinker-1.8.2 flask-3.0.3 gunicorn-23.0.0\n"
     ]
    }
   ],
   "source": [
    "!pip install flask gunicorn\n"
   ]
  },
  {
   "cell_type": "code",
   "execution_count": 8,
   "id": "b85855eb-74de-40bf-8ffd-118ef63aeb12",
   "metadata": {},
   "outputs": [
    {
     "name": "stdout",
     "output_type": "stream",
     "text": [
      "Requirement already satisfied: flask in /Users/egor_prokhodtsev/anaconda3/envs/my_quant_lab/lib/python3.10/site-packages (3.0.3)\n",
      "Collecting waitress\n",
      "  Downloading waitress-3.0.0-py3-none-any.whl.metadata (4.2 kB)\n",
      "Requirement already satisfied: Werkzeug>=3.0.0 in /Users/egor_prokhodtsev/anaconda3/envs/my_quant_lab/lib/python3.10/site-packages (from flask) (3.0.4)\n",
      "Requirement already satisfied: Jinja2>=3.1.2 in /Users/egor_prokhodtsev/anaconda3/envs/my_quant_lab/lib/python3.10/site-packages (from flask) (3.1.4)\n",
      "Requirement already satisfied: itsdangerous>=2.1.2 in /Users/egor_prokhodtsev/anaconda3/envs/my_quant_lab/lib/python3.10/site-packages (from flask) (2.2.0)\n",
      "Requirement already satisfied: click>=8.1.3 in /Users/egor_prokhodtsev/anaconda3/envs/my_quant_lab/lib/python3.10/site-packages (from flask) (8.1.7)\n",
      "Requirement already satisfied: blinker>=1.6.2 in /Users/egor_prokhodtsev/anaconda3/envs/my_quant_lab/lib/python3.10/site-packages (from flask) (1.8.2)\n",
      "Requirement already satisfied: MarkupSafe>=2.0 in /Users/egor_prokhodtsev/anaconda3/envs/my_quant_lab/lib/python3.10/site-packages (from Jinja2>=3.1.2->flask) (2.1.5)\n",
      "Downloading waitress-3.0.0-py3-none-any.whl (56 kB)\n",
      "\u001b[2K   \u001b[90m━━━━━━━━━━━━━━━━━━━━━━━━━━━━━━━━━━━━━━━━\u001b[0m \u001b[32m56.7/56.7 kB\u001b[0m \u001b[31m602.0 kB/s\u001b[0m eta \u001b[36m0:00:00\u001b[0ma \u001b[36m0:00:01\u001b[0m\n",
      "\u001b[?25hInstalling collected packages: waitress\n",
      "Successfully installed waitress-3.0.0\n"
     ]
    }
   ],
   "source": [
    "!pip install flask waitress"
   ]
  },
  {
   "cell_type": "code",
   "execution_count": 15,
   "id": "ff746ace-530a-4a92-9138-a40a7ee8c09c",
   "metadata": {},
   "outputs": [
    {
     "name": "stdout",
     "output_type": "stream",
     "text": [
      "model1.bin: True\n",
      "dv.bin: True\n"
     ]
    }
   ],
   "source": [
    "import hashlib\n",
    "\n",
    "\n",
    "model_bin = '3d8bb28974e55edefa000fe38fd3ed12'  \n",
    "dv_bin = '7d37616e00aa80f2152b8b0511fc2dff' \n",
    "\n",
    "def get_md5_checksum(filename):\n",
    "    with open(filename, \"rb\") as f:\n",
    "        file_hash = hashlib.md5()\n",
    "        while chunk := f.read(8192):\n",
    "            file_hash.update(chunk)\n",
    "    return file_hash.hexdigest()\n",
    "\n",
    "# Calculate and print checksums\n",
    "print(\"model1.bin:\", get_md5_checksum(\"model1.bin\")==model_bin)\n",
    "print(\"dv.bin:\", get_md5_checksum(\"dv.bin\")==dv_bin)\n"
   ]
  },
  {
   "cell_type": "code",
   "execution_count": 18,
   "id": "a86e7a8f-4145-41a7-a087-da6467777bdf",
   "metadata": {},
   "outputs": [
    {
     "name": "stdout",
     "output_type": "stream",
     "text": [
      "Error: Bad module 'app'\n",
      "\n",
      "Usage:\n",
      "\n",
      "    waitress-serve [OPTS] MODULE:OBJECT\n",
      "\n",
      "Standard options:\n",
      "\n",
      "    --help\n",
      "        Show this information.\n",
      "\n",
      "    --call\n",
      "        Call the given object to get the WSGI application.\n",
      "\n",
      "    --host=ADDR\n",
      "        Hostname or IP address on which to listen, default is '0.0.0.0',\n",
      "        which means \"all IP addresses on this host\".\n",
      "\n",
      "        Note: May not be used together with --listen\n",
      "\n",
      "    --port=PORT\n",
      "        TCP port on which to listen, default is '8080'\n",
      "\n",
      "        Note: May not be used together with --listen\n",
      "\n",
      "    --listen=ip:port\n",
      "        Tell waitress to listen on an ip port combination.\n",
      "\n",
      "        Example:\n",
      "\n",
      "            --listen=127.0.0.1:8080\n",
      "            --listen=[::1]:8080\n",
      "            --listen=*:8080\n",
      "\n",
      "        This option may be used multiple times to listen on multiple sockets.\n",
      "        A wildcard for the hostname is also supported and will bind to both\n",
      "        IPv4/IPv6 depending on whether they are enabled or disabled.\n",
      "\n",
      "    --[no-]ipv4\n",
      "        Toggle on/off IPv4 support.\n",
      "\n",
      "        Example:\n",
      "\n",
      "            --no-ipv4\n",
      "\n",
      "        This will disable IPv4 socket support. This affects wildcard matching\n",
      "        when generating the list of sockets.\n",
      "\n",
      "    --[no-]ipv6\n",
      "        Toggle on/off IPv6 support.\n",
      "\n",
      "        Example:\n",
      "\n",
      "            --no-ipv6\n",
      "\n",
      "        This will turn on IPv6 socket support. This affects wildcard matching\n",
      "        when generating a list of sockets.\n",
      "\n",
      "    --unix-socket=PATH\n",
      "        Path of Unix socket. If a socket path is specified, a Unix domain\n",
      "        socket is made instead of the usual inet domain socket.\n",
      "\n",
      "        Not available on Windows.\n",
      "\n",
      "    --unix-socket-perms=PERMS\n",
      "        Octal permissions to use for the Unix domain socket, default is\n",
      "        '600'.\n",
      "\n",
      "    --url-scheme=STR\n",
      "        Default wsgi.url_scheme value, default is 'http'.\n",
      "\n",
      "    --url-prefix=STR\n",
      "        The ``SCRIPT_NAME`` WSGI environment value.  Setting this to anything\n",
      "        except the empty string will cause the WSGI ``SCRIPT_NAME`` value to be\n",
      "        the value passed minus any trailing slashes you add, and it will cause\n",
      "        the ``PATH_INFO`` of any request which is prefixed with this value to\n",
      "        be stripped of the prefix.  Default is the empty string.\n",
      "\n",
      "    --ident=STR\n",
      "        Server identity used in the 'Server' header in responses. Default\n",
      "        is 'waitress'.\n",
      "\n",
      "Tuning options:\n",
      "\n",
      "    --threads=INT\n",
      "        Number of threads used to process application logic, default is 4.\n",
      "\n",
      "    --backlog=INT\n",
      "        Connection backlog for the server. Default is 1024.\n",
      "\n",
      "    --recv-bytes=INT\n",
      "        Number of bytes to request when calling socket.recv(). Default is\n",
      "        8192.\n",
      "\n",
      "    --send-bytes=INT\n",
      "        Number of bytes to send to socket.send(). Default is 18000.\n",
      "        Multiples of 9000 should avoid partly-filled TCP packets.\n",
      "\n",
      "    --outbuf-overflow=INT\n",
      "        A temporary file should be created if the pending output is larger\n",
      "        than this. Default is 1048576 (1MB).\n",
      "\n",
      "    --outbuf-high-watermark=INT\n",
      "        The app_iter will pause when pending output is larger than this value\n",
      "        and will resume once enough data is written to the socket to fall below\n",
      "        this threshold. Default is 16777216 (16MB).\n",
      "\n",
      "    --inbuf-overflow=INT\n",
      "        A temporary file should be created if the pending input is larger\n",
      "        than this. Default is 524288 (512KB).\n",
      "\n",
      "    --connection-limit=INT\n",
      "        Stop creating new channels if too many are already active.\n",
      "        Default is 100.\n",
      "\n",
      "    --cleanup-interval=INT\n",
      "        Minimum seconds between cleaning up inactive channels. Default\n",
      "        is 30. See '--channel-timeout'.\n",
      "\n",
      "    --channel-timeout=INT\n",
      "        Maximum number of seconds to leave inactive connections open.\n",
      "        Default is 120. 'Inactive' is defined as 'has received no data\n",
      "        from the client and has sent no data to the client'.\n",
      "\n",
      "    --[no-]log-socket-errors\n",
      "        Toggle whether premature client disconnect tracebacks ought to be\n",
      "        logged. On by default.\n",
      "\n",
      "    --max-request-header-size=INT\n",
      "        Maximum size of all request headers combined. Default is 262144\n",
      "        (256KB).\n",
      "\n",
      "    --max-request-body-size=INT\n",
      "        Maximum size of request body. Default is 1073741824 (1GB).\n",
      "\n",
      "    --[no-]expose-tracebacks\n",
      "        Toggle whether to expose tracebacks of unhandled exceptions to the\n",
      "        client. Off by default.\n",
      "\n",
      "    --asyncore-loop-timeout=INT\n",
      "        The timeout value in seconds passed to asyncore.loop(). Default is 1.\n",
      "\n",
      "    --asyncore-use-poll\n",
      "        The use_poll argument passed to ``asyncore.loop()``. Helps overcome\n",
      "        open file descriptors limit. Default is False.\n",
      "\n",
      "    --channel-request-lookahead=INT\n",
      "        Allows channels to stay readable and buffer more requests up to the\n",
      "        given maximum even if a request is already being processed. This allows\n",
      "        detecting if a client closed the connection while its request is being\n",
      "        processed. Default is 0.\n",
      "\n",
      "\n",
      "There was an exception (ModuleNotFoundError) importing your module.\n",
      "\n",
      "It had these arguments: \n",
      "1. No module named 'app'\n",
      "\n"
     ]
    }
   ],
   "source": [
    "!waitress-serve --listen=0.0.0.0:9696 app:app\n"
   ]
  },
  {
   "cell_type": "code",
   "execution_count": null,
   "id": "7163518d-04ac-4ae2-b45d-ddfb2f7a7ace",
   "metadata": {},
   "outputs": [],
   "source": [
    "from flask import Flask, request, jsonify\n",
    "import pickle\n",
    "from flask.testing import FlaskClient\n",
    "\n",
    "# Load the models\n",
    "with open('dv.bin', 'rb') as f_in:\n",
    "    dv = pickle.load(f_in)\n",
    "\n",
    "with open('model1.bin', 'rb') as f_in:\n",
    "    model = pickle.load(f_in)\n",
    "\n",
    "# Create the Flask app\n",
    "app = Flask(__name__)\n",
    "\n",
    "# Define the prediction route\n",
    "@app.route('/predict', methods=['POST'])\n",
    "def predict():\n",
    "    client = request.get_json()  # Get JSON data from the client\n",
    "    X = dv.transform([client])   # Transform client data\n",
    "    probability = model.predict_proba(X)[0, 1]  # Get probability of subscription\n",
    "    result = {\"subscription_probability\": probability}\n",
    "    return jsonify(result)  # Return the result as JSON\n",
    "\n",
    "# Create a testing client for the app to simulate requests\n",
    "client = app.test_client()\n"
   ]
  },
  {
   "cell_type": "code",
   "execution_count": 21,
   "id": "c2f97574-f5e6-4944-baf9-4289c00c9fc8",
   "metadata": {},
   "outputs": [
    {
     "name": "stdout",
     "output_type": "stream",
     "text": [
      "The probability that this client will get a subscription is: 0.3348\n"
     ]
    }
   ],
   "source": [
    "# Define the client data for testing\n",
    "client_data = {\"job\": \"student\", \"duration\": 280, \"poutcome\": \"failure\"}\n",
    "\n",
    "# Send a POST request to the Flask app's /predict endpoint\n",
    "response = client.post('/predict', json=client_data)\n",
    "result = response.get_json()\n",
    "\n",
    "# Display the result\n",
    "print(f\"The probability that this client will get a subscription is: {result['subscription_probability']:.4f}\")\n"
   ]
  },
  {
   "cell_type": "markdown",
   "id": "7dbfac96-8c4f-4ffc-b983-6859e2537000",
   "metadata": {},
   "source": [
    "# Docker"
   ]
  },
  {
   "cell_type": "code",
   "execution_count": 69,
   "id": "329a067f-adc4-462a-a1a6-68af212b9493",
   "metadata": {},
   "outputs": [
    {
     "name": "stdout",
     "output_type": "stream",
     "text": [
      "Docker version 27.2.0, build 3ab4256\n"
     ]
    }
   ],
   "source": [
    "!docker --version"
   ]
  },
  {
   "cell_type": "code",
   "execution_count": 79,
   "id": "02fa2175-ce7d-42c8-ab82-ca7fc67e53e7",
   "metadata": {},
   "outputs": [
    {
     "name": "stdout",
     "output_type": "stream",
     "text": [
      "3.11.5-slim: Pulling from svizor/zoomcamp-model\n",
      "\n",
      "\u001b[1Be7c4b030: Pulling fs layer \n",
      "\u001b[1B36e84c8e: Pulling fs layer \n",
      "\u001b[1Bb60fbb0c: Pulling fs layer \n",
      "\u001b[1Be97f4fbd: Pulling fs layer \n",
      "\u001b[1Bd4e17ae3: Pulling fs layer \n",
      "\u001b[1Bf8d7a667: Pulling fs layer \n",
      "\u001b[1BDigest: sha256:15d61790363f892dfdef55f47b78feed751cb59704d47ea911df0ef3e9300c06[6A\u001b[2K\u001b[6A\u001b[2K\u001b[7A\u001b[2K\u001b[5A\u001b[2K\u001b[6A\u001b[2K\u001b[6A\u001b[2K\u001b[5A\u001b[2K\u001b[6A\u001b[2K\u001b[5A\u001b[2K\u001b[6A\u001b[2K\u001b[5A\u001b[2K\u001b[6A\u001b[2K\u001b[5A\u001b[2K\u001b[6A\u001b[2K\u001b[6A\u001b[2K\u001b[5A\u001b[2K\u001b[6A\u001b[2K\u001b[6A\u001b[2K\u001b[6A\u001b[2K\u001b[5A\u001b[2K\u001b[7A\u001b[2K\u001b[6A\u001b[2K\u001b[6A\u001b[2K\u001b[6A\u001b[2K\u001b[6A\u001b[2K\u001b[6A\u001b[2K\u001b[5A\u001b[2K\u001b[6A\u001b[2K\u001b[7A\u001b[2K\u001b[6A\u001b[2K\u001b[5A\u001b[2K\u001b[6A\u001b[2K\u001b[6A\u001b[2K\u001b[5A\u001b[2K\u001b[6A\u001b[2K\u001b[6A\u001b[2K\u001b[6A\u001b[2K\u001b[5A\u001b[2K\u001b[6A\u001b[2K\u001b[6A\u001b[2K\u001b[5A\u001b[2K\u001b[6A\u001b[2K\u001b[6A\u001b[2K\u001b[5A\u001b[2K\u001b[6A\u001b[2K\u001b[6A\u001b[2K\u001b[5A\u001b[2K\u001b[6A\u001b[2K\u001b[6A\u001b[2K\u001b[6A\u001b[2K\u001b[5A\u001b[2K\u001b[6A\u001b[2K\u001b[6A\u001b[2K\u001b[7A\u001b[2K\u001b[6A\u001b[2K\u001b[5A\u001b[2K\u001b[6A\u001b[2K\u001b[6A\u001b[2K\u001b[5A\u001b[2K\u001b[6A\u001b[2K\u001b[6A\u001b[2K\u001b[7A\u001b[2K\u001b[6A\u001b[2K\u001b[6A\u001b[2K\u001b[6A\u001b[2K\u001b[5A\u001b[2K\u001b[6A\u001b[2K\u001b[6A\u001b[2K\u001b[6A\u001b[2K\u001b[5A\u001b[2K\u001b[7A\u001b[2K\u001b[6A\u001b[2K\u001b[6A\u001b[2K\u001b[5A\u001b[2K\u001b[6A\u001b[2K\u001b[6A\u001b[2K\u001b[5A\u001b[2K\u001b[6A\u001b[2K\u001b[7A\u001b[2K\u001b[6A\u001b[2K\u001b[6A\u001b[2K\u001b[5A\u001b[2K\u001b[5A\u001b[2K\u001b[7A\u001b[2K\u001b[4A\u001b[2K\u001b[5A\u001b[2K\u001b[5A\u001b[2K\u001b[3A\u001b[2K\u001b[3A\u001b[2K\u001b[3A\u001b[2K\u001b[7A\u001b[2K\u001b[3A\u001b[2K\u001b[5A\u001b[2K\u001b[3A\u001b[2K\u001b[3A\u001b[2K\u001b[3A\u001b[2K\u001b[3A\u001b[2K\u001b[3A\u001b[2K\u001b[5A\u001b[2K\u001b[3A\u001b[2K\u001b[3A\u001b[2K\u001b[3A\u001b[2K\u001b[3A\u001b[2K\u001b[5A\u001b[2K\u001b[3A\u001b[2K\u001b[3A\u001b[2K\u001b[3A\u001b[2K\u001b[3A\u001b[2K\u001b[5A\u001b[2K\u001b[3A\u001b[2K\u001b[3A\u001b[2K\u001b[7A\u001b[2K\u001b[3A\u001b[2K\u001b[5A\u001b[2K\u001b[3A\u001b[2K\u001b[3A\u001b[2K\u001b[3A\u001b[2K\u001b[5A\u001b[2K\u001b[3A\u001b[2K\u001b[3A\u001b[2K\u001b[3A\u001b[2K\u001b[3A\u001b[2K\u001b[3A\u001b[2K\u001b[3A\u001b[2K\u001b[5A\u001b[2K\u001b[3A\u001b[2K\u001b[3A\u001b[2K\u001b[7A\u001b[2K\u001b[3A\u001b[2K\u001b[3A\u001b[2K\u001b[5A\u001b[2K\u001b[3A\u001b[2K\u001b[3A\u001b[2K\u001b[3A\u001b[2K\u001b[3A\u001b[2K\u001b[3A\u001b[2K\u001b[7A\u001b[2K\u001b[5A\u001b[2K\u001b[3A\u001b[2K\u001b[3A\u001b[2K\u001b[3A\u001b[2K\u001b[3A\u001b[2K\u001b[3A\u001b[2K\u001b[5A\u001b[2K\u001b[3A\u001b[2K\u001b[7A\u001b[2K\u001b[3A\u001b[2K\u001b[3A\u001b[2K\u001b[3A\u001b[2K\u001b[5A\u001b[2K\u001b[3A\u001b[2K\u001b[3A\u001b[2K\u001b[7A\u001b[2K\u001b[3A\u001b[2K\u001b[3A\u001b[2K\u001b[3A\u001b[2K\u001b[5A\u001b[2K\u001b[3A\u001b[2K\u001b[3A\u001b[2K\u001b[3A\u001b[2K\u001b[7A\u001b[2K\u001b[3A\u001b[2K\u001b[3A\u001b[2K\u001b[5A\u001b[2K\u001b[3A\u001b[2K\u001b[3A\u001b[2K\u001b[3A\u001b[2K\u001b[3A\u001b[2K\u001b[7A\u001b[2K\u001b[5A\u001b[2K\u001b[7A\u001b[2K\u001b[5A\u001b[2K\u001b[5A\u001b[2K\u001b[5A\u001b[2K\u001b[7A\u001b[2K\u001b[2A\u001b[2K\u001b[5A\u001b[2K\u001b[7A\u001b[2K\u001b[1A\u001b[2K\u001b[5A\u001b[2K\u001b[7A\u001b[2K\u001b[5A\u001b[2K\u001b[7A\u001b[2K\u001b[5A\u001b[2K\u001b[7A\u001b[2K\u001b[5A\u001b[2K\u001b[5A\u001b[2K\u001b[7A\u001b[2K\u001b[5A\u001b[2K\u001b[7A\u001b[2K\u001b[5A\u001b[2K\u001b[7A\u001b[2K\u001b[5A\u001b[2K\u001b[5A\u001b[2K\u001b[7A\u001b[2K\u001b[5A\u001b[2K\u001b[7A\u001b[2K\u001b[5A\u001b[2K\u001b[5A\u001b[2K\u001b[7A\u001b[2K\u001b[5A\u001b[2K\u001b[5A\u001b[2K\u001b[7A\u001b[2K\u001b[5A\u001b[2K\u001b[5A\u001b[2K\u001b[7A\u001b[2K\u001b[5A\u001b[2K\u001b[5A\u001b[2K\u001b[7A\u001b[2K\u001b[5A\u001b[2K\u001b[5A\u001b[2K\u001b[7A\u001b[2K\u001b[5A\u001b[2K\u001b[5A\u001b[2K\u001b[7A\u001b[2K\u001b[5A\u001b[2K\u001b[5A\u001b[2K\u001b[5A\u001b[2K\u001b[7A\u001b[2K\u001b[5A\u001b[2K\u001b[5A\u001b[2K\u001b[7A\u001b[2K\u001b[5A\u001b[2K\u001b[5A\u001b[2K\u001b[7A\u001b[2K\u001b[5A\u001b[2K\u001b[5A\u001b[2K\u001b[7A\u001b[2K\u001b[5A\u001b[2K\u001b[5A\u001b[2K\u001b[5A\u001b[2K\u001b[7A\u001b[2K\u001b[5A\u001b[2K\u001b[5A\u001b[2K\u001b[7A\u001b[2K\u001b[5A\u001b[2K\u001b[5A\u001b[2K\u001b[7A\u001b[2K\u001b[5A\u001b[2K\u001b[5A\u001b[2K\u001b[7A\u001b[2K\u001b[5A\u001b[2K\u001b[5A\u001b[2K\u001b[5A\u001b[2K\u001b[7A\u001b[2K\u001b[5A\u001b[2K\u001b[5A\u001b[2K\u001b[5A\u001b[2K\u001b[7A\u001b[2K\u001b[5A\u001b[2K\u001b[5A\u001b[2K\u001b[7A\u001b[2K\u001b[5A\u001b[2K\u001b[5A\u001b[2K\u001b[5A\u001b[2K\u001b[7A\u001b[2K\u001b[7A\u001b[2K\u001b[7A\u001b[2K\u001b[7A\u001b[2K\u001b[7A\u001b[2K\u001b[7A\u001b[2K\u001b[7A\u001b[2K\u001b[7A\u001b[2K\u001b[7A\u001b[2K\u001b[7A\u001b[2K\u001b[7A\u001b[2K\u001b[7A\u001b[2K\u001b[7A\u001b[2K\u001b[7A\u001b[2K\u001b[7A\u001b[2K\u001b[7A\u001b[2K\u001b[7A\u001b[2K\u001b[7A\u001b[2K\u001b[7A\u001b[2K\u001b[7A\u001b[2K\u001b[7A\u001b[2K\u001b[7A\u001b[2K\u001b[7A\u001b[2K\u001b[7A\u001b[2K\u001b[7A\u001b[2K\u001b[7A\u001b[2K\u001b[7A\u001b[2K\u001b[7A\u001b[2K\u001b[7A\u001b[2K\u001b[7A\u001b[2K\u001b[7A\u001b[2K\u001b[7A\u001b[2K\u001b[7A\u001b[2K\u001b[7A\u001b[2K\u001b[7A\u001b[2K\u001b[7A\u001b[2K\u001b[7A\u001b[2K\u001b[7A\u001b[2K\u001b[7A\u001b[2K\u001b[7A\u001b[2K\u001b[7A\u001b[2K\u001b[7A\u001b[2K\u001b[7A\u001b[2K\u001b[7A\u001b[2K\u001b[7A\u001b[2K\u001b[7A\u001b[2K\u001b[7A\u001b[2K\u001b[7A\u001b[2K\u001b[7A\u001b[2K\u001b[7A\u001b[2K\u001b[7A\u001b[2K\u001b[7A\u001b[2K\u001b[6A\u001b[2K\u001b[6A\u001b[2K\u001b[5A\u001b[2K\u001b[5A\u001b[2K\u001b[5A\u001b[2K\u001b[5A\u001b[2K\u001b[3A\u001b[2K\u001b[3A\u001b[2K\n",
      "Status: Downloaded newer image for svizor/zoomcamp-model:3.11.5-slim\n",
      "docker.io/svizor/zoomcamp-model:3.11.5-slim\n",
      "\u001b[1m\n",
      "What's next:\u001b[0m\n",
      "    View a summary of image vulnerabilities and recommendations → \u001b[36mdocker scout quickview svizor/zoomcamp-model:3.11.5-slim\u001b[0m\n"
     ]
    }
   ],
   "source": [
    "!docker pull svizor/zoomcamp-model:3.11.5-slim\n"
   ]
  },
  {
   "cell_type": "code",
   "execution_count": 81,
   "id": "09017b01-2839-4a5a-9c6d-e06c9f70917e",
   "metadata": {},
   "outputs": [
    {
     "name": "stdout",
     "output_type": "stream",
     "text": [
      "1ecfbac0590bb7437f96efbbdba1789977299c507fd20119ead7ed9d6b2f0942\n"
     ]
    }
   ],
   "source": [
    "!docker run -d --platform linux/amd64 -p 9697:9696 svizor/zoomcamp-model:3.11.5-slim\n"
   ]
  },
  {
   "cell_type": "code",
   "execution_count": null,
   "id": "65be4316-c5c3-40bd-a440-e02277d3da6a",
   "metadata": {},
   "outputs": [],
   "source": []
  },
  {
   "cell_type": "code",
   "execution_count": null,
   "id": "4e88b41d-d3d1-4d80-83fb-db7b375d9dda",
   "metadata": {},
   "outputs": [],
   "source": []
  }
 ],
 "metadata": {
  "kernelspec": {
   "display_name": "Python 3 (ipykernel)",
   "language": "python",
   "name": "python3"
  },
  "language_info": {
   "codemirror_mode": {
    "name": "ipython",
    "version": 3
   },
   "file_extension": ".py",
   "mimetype": "text/x-python",
   "name": "python",
   "nbconvert_exporter": "python",
   "pygments_lexer": "ipython3",
   "version": "3.10.13"
  }
 },
 "nbformat": 4,
 "nbformat_minor": 5
}
